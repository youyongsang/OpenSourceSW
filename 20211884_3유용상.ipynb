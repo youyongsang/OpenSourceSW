{
  "cells": [
    {
      "cell_type": "code",
      "execution_count": 1,
      "metadata": {
        "colab": {
          "base_uri": "https://localhost:8080/"
        },
        "id": "wa0QVr2HCBTa",
        "outputId": "5062083c-3390-441c-a173-92a92a2f497b"
      },
      "outputs": [
        {
          "data": {
            "text/plain": [
              "{'China': 86, 'India': 91, 'United States': 1, 'Brazil': 55, 'Russia': 7}"
            ]
          },
          "execution_count": 1,
          "metadata": {},
          "output_type": "execute_result"
        }
      ],
      "source": [
        "#예제 1-1\n",
        "DIAL_CODES = [\n",
        "    (86, 'China'),\n",
        "    (91, 'India'),\n",
        "    (1, 'United States'),\n",
        "    (55, 'Brazil'),\n",
        "    (7, 'Russia'),\n",
        "]\n",
        "country_code = {country: code for code, country in DIAL_CODES} #country가 key. code가 value. {}을 사용했기에 지능형 딕셔너리 제네레이터 표현식으로도 변경가능하다.\n",
        "country_code"
      ]
    },
    {
      "cell_type": "code",
      "execution_count": 2,
      "metadata": {
        "colab": {
          "base_uri": "https://localhost:8080/"
        },
        "id": "w2T5ZVWHCBVo",
        "outputId": "4ca5ccea-65cb-4f38-8108-561fc4cfe778"
      },
      "outputs": [
        {
          "data": {
            "text/plain": [
              "{1: 'UNITED STATES', 55: 'BRAZIL', 7: 'RUSSIA'}"
            ]
          },
          "execution_count": 2,
          "metadata": {},
          "output_type": "execute_result"
        }
      ],
      "source": [
        "#예제 1-2\n",
        "{code : country.upper() for country, code in country_code.items() if code < 66} #items() 각각의 키, value값을 리턴하는 함수"
      ]
    },
    {
      "cell_type": "code",
      "execution_count": 41,
      "metadata": {
        "colab": {
          "base_uri": "https://localhost:8080/"
        },
        "id": "xxzIih_2CBYF",
        "outputId": "ff7b696b-9b04-4ef3-caf2-812e494c61ee"
      },
      "outputs": [
        {
          "name": "stdout",
          "output_type": "stream",
          "text": [
            "1 [(3, 447)]\n",
            "1397 [(1, 39)]\n",
            "1418 [(3, 118)]\n",
            "1422 [(3, 441)]\n",
            "1439 [(7, 6)]\n",
            "1450 [(1, 55), (7, 123)]\n",
            "15 [(1, 32)]\n",
            "2 [(5, 168)]\n",
            "3 [(5, 171)]\n",
            "30 [(1, 46)]\n",
            "4 [(5, 479)]\n",
            "5 [(5, 482)]\n",
            "6 [(7, 39)]\n",
            "a [(3, 184), (5, 339)]\n",
            "abdicated [(3, 224)]\n",
            "absolute [(3, 359)]\n",
            "acted [(7, 85)]\n",
            "advancements [(5, 185)]\n",
            "alphabet [(1, 316), (5, 158)]\n",
            "also [(5, 431)]\n",
            "amendments [(5, 88)]\n",
            "and [(1, 260), (3, 94), (3, 378), (3, 398), (5, 36), (5, 64), (5, 131), (5, 209), (5, 225), (5, 323), (7, 42)]\n",
            "areas [(5, 421)]\n",
            "as [(1, 107), (1, 211), (1, 278), (3, 167), (7, 91)]\n",
            "became [(7, 15)]\n",
            "brother [(3, 151)]\n",
            "campaigns [(5, 300)]\n",
            "Chungnyeong [(3, 31)]\n",
            "commonly [(1, 92)]\n",
            "Confucian [(5, 26), (5, 44)]\n",
            "conquered [(5, 411)]\n",
            "continued [(3, 402)]\n",
            "created [(5, 123)]\n",
            "crown [(3, 170)]\n",
            "Crown [(7, 62)]\n",
            "death [(3, 432)]\n",
            "died [(7, 109)]\n",
            "dynasty [(1, 178)]\n",
            "early [(3, 271)]\n",
            "economic [(5, 262)]\n",
            "eldest [(3, 144), (7, 50)]\n",
            "Emeritus [(3, 307)]\n",
            "enacted [(5, 68)]\n",
            "encouraged [(5, 174)]\n",
            "establishing [(5, 373)]\n",
            "executive [(3, 368)]\n",
            "favor [(3, 257)]\n",
            "few [(3, 186)]\n",
            "fourth [(1, 149)]\n",
            "From [(7, 1)]\n",
            "govern [(3, 415)]\n",
            "Grand [(3, 18)]\n",
            "Great [(1, 121)]\n",
            "greatest [(1, 225)]\n",
            "growth [(5, 271)]\n",
            "Hangul [(1, 297)]\n",
            "Hanja [(1, 21)]\n",
            "He [(1, 196), (5, 109), (5, 279), (5, 428)]\n",
            "he [(3, 57), (7, 12)]\n",
            "his [(3, 140), (3, 428), (7, 46)]\n",
            "history [(1, 251)]\n",
            "Hyang [(7, 78)]\n",
            "ill [(7, 35)]\n",
            "implemented [(5, 327)]\n",
            "in [(1, 241), (3, 245), (3, 438), (5, 198), (5, 398)]\n",
            "In [(3, 115), (3, 264)]\n",
            "increasingly [(7, 22)]\n",
            "Initially [(3, 1)]\n",
            "introduced [(5, 229)]\n",
            "inventor [(1, 285)]\n",
            "is [(1, 199), (1, 264)]\n",
            "island [(5, 471)]\n",
            "Je [(3, 163)]\n",
            "Joseon [(1, 171)]\n",
            "King [(3, 81), (3, 302)]\n",
            "known [(1, 101)]\n",
            "Korea [(1, 189)]\n",
            "Korean [(1, 9), (1, 244), (1, 332), (5, 19), (5, 151)]\n",
            "language [(1, 339)]\n",
            "later [(3, 197)]\n",
            "launched [(5, 282)]\n",
            "legal [(5, 82)]\n",
            "major [(5, 76)]\n",
            "March [(1, 49), (7, 117)]\n",
            "May [(1, 35)]\n",
            "measures [(5, 240)]\n",
            "military [(3, 382), (5, 291)]\n",
            "monarch [(1, 156)]\n",
            "months [(3, 190)]\n",
            "most [(3, 346)]\n",
            "name [(1, 71)]\n",
            "native [(1, 309)]\n",
            "Neo [(5, 40)]\n",
            "newly [(5, 405)]\n",
            "north [(5, 317)]\n",
            "notably [(3, 351)]\n",
            "Occupation [(5, 448)]\n",
            "of [(1, 164), (1, 186), (1, 218), (1, 294), (1, 325), (3, 78), (3, 283), (5, 459)]\n",
            "on [(7, 114)]\n",
            "one [(1, 214)]\n",
            "ordered [(5, 436)]\n",
            "personal [(1, 62)]\n",
            "personally [(5, 112)]\n",
            "policies [(5, 54)]\n",
            "policy [(5, 352)]\n",
            "power [(3, 391)]\n",
            "powers [(3, 338)]\n",
            "Prince [(3, 24), (7, 68)]\n",
            "prince [(3, 176)]\n",
            "promulgated [(5, 135)]\n",
            "Queen [(3, 98)]\n",
            "regarded [(1, 202)]\n",
            "regent [(7, 94)]\n",
            "reign [(3, 295)]\n",
            "reinforced [(5, 8)]\n",
            "relocation [(5, 341)]\n",
            "remembered [(1, 267)]\n",
            "replaced [(3, 131)]\n",
            "retained [(3, 324)]\n",
            "rulers [(1, 234)]\n",
            "s [(3, 255), (3, 293)]\n",
            "science [(5, 201)]\n",
            "Sejong [(1, 1), (1, 110), (3, 124), (3, 248), (3, 286), (5, 1), (7, 102)]\n",
            "settlements [(5, 386)]\n",
            "son [(3, 74), (7, 57)]\n",
            "stimulate [(5, 252)]\n",
            "Taejong [(3, 86), (3, 204), (3, 316)]\n",
            "technology [(5, 213)]\n",
            "the [(1, 117), (1, 145), (1, 167), (1, 221), (1, 281), (1, 305), (1, 328), (3, 64), (3, 234), (3, 267), (5, 147), (5, 313), (5, 401), (5, 444)]\n",
            "third [(3, 68)]\n",
            "throne [(3, 238)]\n",
            "titled [(3, 11)]\n",
            "To [(1, 79)]\n",
            "to [(3, 412), (5, 249), (5, 310)]\n",
            "Tsushima [(5, 462)]\n",
            "until [(3, 422)]\n",
            "vast [(3, 333)]\n",
            "voluntarily [(3, 212)]\n",
            "was [(1, 141), (3, 60)]\n",
            "Wongyeong [(3, 104)]\n",
            "years [(3, 277)]\n",
            "Yi [(1, 76), (3, 160), (7, 75)]\n",
            "世宗 [(1, 28)]\n",
            "世宗大王 [(1, 134)]\n",
            "徙民政策 [(5, 366)]\n",
            "忠寧大君 [(3, 50)]\n",
            "李祹 [(1, 87)]\n",
            "貢法 [(5, 104)]\n",
            "공법 [(5, 100)]\n",
            "사민정책 [(5, 360)]\n",
            "세종 [(1, 17)]\n",
            "세종대왕 [(1, 128)]\n",
            "이도 [(1, 83)]\n",
            "충녕대군 [(3, 44)]\n"
          ]
        }
      ],
      "source": [
        "#예제 2-1\n",
        "import sys\n",
        "import re\n",
        "WORD_RE = re.compile(r'\\w+')\n",
        "index = {}\n",
        "with open(\"sejong.txt\", encoding='utf-8') as fp:\n",
        "    for line_no, line in enumerate(fp, 1):\n",
        "        for match in WORD_RE.finditer(line):\n",
        "            word = match.group()\n",
        "            column_no = match.start() + 1\n",
        "            location = (line_no, column_no)\n",
        "            occurence = index.get(word, [])\n",
        "            occurence.append(location)\n",
        "            index[word] = occurence\n",
        "for word in sorted(index, key=str.upper):\n",
        "    print(word, index[word])\n"
      ]
    },
    {
      "cell_type": "code",
      "execution_count": 42,
      "metadata": {
        "colab": {
          "base_uri": "https://localhost:8080/"
        },
        "id": "H_-YbU9svWOJ",
        "outputId": "b3e823a7-70f5-481e-ebe9-ad3e1353ee87"
      },
      "outputs": [
        {
          "name": "stdout",
          "output_type": "stream",
          "text": [
            "1 [(3, 447)]\n",
            "1397 [(1, 39)]\n",
            "1418 [(3, 118)]\n",
            "1422 [(3, 441)]\n",
            "1439 [(7, 6)]\n",
            "1450 [(1, 55), (7, 123)]\n",
            "15 [(1, 32)]\n",
            "2 [(5, 168)]\n",
            "3 [(5, 171)]\n",
            "30 [(1, 46)]\n",
            "4 [(5, 479)]\n",
            "5 [(5, 482)]\n",
            "6 [(7, 39)]\n",
            "a [(3, 184), (5, 339)]\n",
            "abdicated [(3, 224)]\n",
            "absolute [(3, 359)]\n",
            "acted [(7, 85)]\n",
            "advancements [(5, 185)]\n",
            "alphabet [(1, 316), (5, 158)]\n",
            "also [(5, 431)]\n",
            "amendments [(5, 88)]\n",
            "and [(1, 260), (3, 94), (3, 378), (3, 398), (5, 36), (5, 64), (5, 131), (5, 209), (5, 225), (5, 323), (7, 42)]\n",
            "areas [(5, 421)]\n",
            "as [(1, 107), (1, 211), (1, 278), (3, 167), (7, 91)]\n",
            "became [(7, 15)]\n",
            "brother [(3, 151)]\n",
            "campaigns [(5, 300)]\n",
            "Chungnyeong [(3, 31)]\n",
            "commonly [(1, 92)]\n",
            "Confucian [(5, 26), (5, 44)]\n",
            "conquered [(5, 411)]\n",
            "continued [(3, 402)]\n",
            "created [(5, 123)]\n",
            "crown [(3, 170)]\n",
            "Crown [(7, 62)]\n",
            "death [(3, 432)]\n",
            "died [(7, 109)]\n",
            "dynasty [(1, 178)]\n",
            "early [(3, 271)]\n",
            "economic [(5, 262)]\n",
            "eldest [(3, 144), (7, 50)]\n",
            "Emeritus [(3, 307)]\n",
            "enacted [(5, 68)]\n",
            "encouraged [(5, 174)]\n",
            "establishing [(5, 373)]\n",
            "executive [(3, 368)]\n",
            "favor [(3, 257)]\n",
            "few [(3, 186)]\n",
            "fourth [(1, 149)]\n",
            "From [(7, 1)]\n",
            "govern [(3, 415)]\n",
            "Grand [(3, 18)]\n",
            "Great [(1, 121)]\n",
            "greatest [(1, 225)]\n",
            "growth [(5, 271)]\n",
            "Hangul [(1, 297)]\n",
            "Hanja [(1, 21)]\n",
            "He [(1, 196), (5, 109), (5, 279), (5, 428)]\n",
            "he [(3, 57), (7, 12)]\n",
            "his [(3, 140), (3, 428), (7, 46)]\n",
            "history [(1, 251)]\n",
            "Hyang [(7, 78)]\n",
            "ill [(7, 35)]\n",
            "implemented [(5, 327)]\n",
            "in [(1, 241), (3, 245), (3, 438), (5, 198), (5, 398)]\n",
            "In [(3, 115), (3, 264)]\n",
            "increasingly [(7, 22)]\n",
            "Initially [(3, 1)]\n",
            "introduced [(5, 229)]\n",
            "inventor [(1, 285)]\n",
            "is [(1, 199), (1, 264)]\n",
            "island [(5, 471)]\n",
            "Je [(3, 163)]\n",
            "Joseon [(1, 171)]\n",
            "King [(3, 81), (3, 302)]\n",
            "known [(1, 101)]\n",
            "Korea [(1, 189)]\n",
            "Korean [(1, 9), (1, 244), (1, 332), (5, 19), (5, 151)]\n",
            "language [(1, 339)]\n",
            "later [(3, 197)]\n",
            "launched [(5, 282)]\n",
            "legal [(5, 82)]\n",
            "major [(5, 76)]\n",
            "March [(1, 49), (7, 117)]\n",
            "May [(1, 35)]\n",
            "measures [(5, 240)]\n",
            "military [(3, 382), (5, 291)]\n",
            "monarch [(1, 156)]\n",
            "months [(3, 190)]\n",
            "most [(3, 346)]\n",
            "name [(1, 71)]\n",
            "native [(1, 309)]\n",
            "Neo [(5, 40)]\n",
            "newly [(5, 405)]\n",
            "north [(5, 317)]\n",
            "notably [(3, 351)]\n",
            "Occupation [(5, 448)]\n",
            "of [(1, 164), (1, 186), (1, 218), (1, 294), (1, 325), (3, 78), (3, 283), (5, 459)]\n",
            "on [(7, 114)]\n",
            "one [(1, 214)]\n",
            "ordered [(5, 436)]\n",
            "personal [(1, 62)]\n",
            "personally [(5, 112)]\n",
            "policies [(5, 54)]\n",
            "policy [(5, 352)]\n",
            "power [(3, 391)]\n",
            "powers [(3, 338)]\n",
            "Prince [(3, 24), (7, 68)]\n",
            "prince [(3, 176)]\n",
            "promulgated [(5, 135)]\n",
            "Queen [(3, 98)]\n",
            "regarded [(1, 202)]\n",
            "regent [(7, 94)]\n",
            "reign [(3, 295)]\n",
            "reinforced [(5, 8)]\n",
            "relocation [(5, 341)]\n",
            "remembered [(1, 267)]\n",
            "replaced [(3, 131)]\n",
            "retained [(3, 324)]\n",
            "rulers [(1, 234)]\n",
            "s [(3, 255), (3, 293)]\n",
            "science [(5, 201)]\n",
            "Sejong [(1, 1), (1, 110), (3, 124), (3, 248), (3, 286), (5, 1), (7, 102)]\n",
            "settlements [(5, 386)]\n",
            "son [(3, 74), (7, 57)]\n",
            "stimulate [(5, 252)]\n",
            "Taejong [(3, 86), (3, 204), (3, 316)]\n",
            "technology [(5, 213)]\n",
            "the [(1, 117), (1, 145), (1, 167), (1, 221), (1, 281), (1, 305), (1, 328), (3, 64), (3, 234), (3, 267), (5, 147), (5, 313), (5, 401), (5, 444)]\n",
            "third [(3, 68)]\n",
            "throne [(3, 238)]\n",
            "titled [(3, 11)]\n",
            "To [(1, 79)]\n",
            "to [(3, 412), (5, 249), (5, 310)]\n",
            "Tsushima [(5, 462)]\n",
            "until [(3, 422)]\n",
            "vast [(3, 333)]\n",
            "voluntarily [(3, 212)]\n",
            "was [(1, 141), (3, 60)]\n",
            "Wongyeong [(3, 104)]\n",
            "years [(3, 277)]\n",
            "Yi [(1, 76), (3, 160), (7, 75)]\n",
            "世宗 [(1, 28)]\n",
            "世宗大王 [(1, 134)]\n",
            "徙民政策 [(5, 366)]\n",
            "忠寧大君 [(3, 50)]\n",
            "李祹 [(1, 87)]\n",
            "貢法 [(5, 104)]\n",
            "공법 [(5, 100)]\n",
            "사민정책 [(5, 360)]\n",
            "세종 [(1, 17)]\n",
            "세종대왕 [(1, 128)]\n",
            "이도 [(1, 83)]\n",
            "충녕대군 [(3, 44)]\n"
          ]
        }
      ],
      "source": [
        "#예제 3\n",
        "import sys\n",
        "import re\n",
        "WORD_RE = re.compile(r'\\w+')\n",
        "index = {}\n",
        "with open(\"sejong.txt\", encoding='utf-8') as fp:\n",
        "    for line_no, line in enumerate(fp, 1):\n",
        "        for match in WORD_RE.finditer(line):\n",
        "            word = match.group()\n",
        "            column_no = match.start() + 1\n",
        "            location = (line_no, column_no)\n",
        "\n",
        "            index.setdefault(word, []).append(location)\n",
        "for word in sorted(index, key=str.upper):\n",
        "    print(word, index[word])\n"
      ]
    },
    {
      "cell_type": "code",
      "execution_count": 43,
      "metadata": {
        "colab": {
          "base_uri": "https://localhost:8080/"
        },
        "id": "hcvunQLCCBak",
        "outputId": "7214133b-ee49-4fec-acc1-3d7f8face79a"
      },
      "outputs": [
        {
          "name": "stdout",
          "output_type": "stream",
          "text": [
            "1 [(3, 123)]\n",
            "1397 [(1, 123)]\n",
            "1418 [(3, 123)]\n",
            "1422 [(3, 123)]\n",
            "1439 [(7, 123)]\n",
            "1450 [(1, 123), (7, 123)]\n",
            "15 [(1, 123)]\n",
            "2 [(5, 123)]\n",
            "3 [(5, 123)]\n",
            "30 [(1, 123)]\n",
            "4 [(5, 123)]\n",
            "5 [(5, 123)]\n",
            "6 [(7, 123)]\n",
            "a [(3, 123), (5, 123)]\n",
            "abdicated [(3, 123)]\n",
            "absolute [(3, 123)]\n",
            "acted [(7, 123)]\n",
            "advancements [(5, 123)]\n",
            "alphabet [(1, 123), (5, 123)]\n",
            "also [(5, 123)]\n",
            "amendments [(5, 123)]\n",
            "and [(1, 123), (3, 123), (3, 123), (3, 123), (5, 123), (5, 123), (5, 123), (5, 123), (5, 123), (5, 123), (7, 123)]\n",
            "areas [(5, 123)]\n",
            "as [(1, 123), (1, 123), (1, 123), (3, 123), (7, 123)]\n",
            "became [(7, 123)]\n",
            "brother [(3, 123)]\n",
            "campaigns [(5, 123)]\n",
            "Chungnyeong [(3, 123)]\n",
            "commonly [(1, 123)]\n",
            "Confucian [(5, 123), (5, 123)]\n",
            "conquered [(5, 123)]\n",
            "continued [(3, 123)]\n",
            "created [(5, 123)]\n",
            "crown [(3, 123)]\n",
            "Crown [(7, 123)]\n",
            "death [(3, 123)]\n",
            "died [(7, 123)]\n",
            "dynasty [(1, 123)]\n",
            "early [(3, 123)]\n",
            "economic [(5, 123)]\n",
            "eldest [(3, 123), (7, 123)]\n",
            "Emeritus [(3, 123)]\n",
            "enacted [(5, 123)]\n",
            "encouraged [(5, 123)]\n",
            "establishing [(5, 123)]\n",
            "executive [(3, 123)]\n",
            "favor [(3, 123)]\n",
            "few [(3, 123)]\n",
            "fourth [(1, 123)]\n",
            "From [(7, 123)]\n",
            "govern [(3, 123)]\n",
            "Grand [(3, 123)]\n",
            "Great [(1, 123)]\n",
            "greatest [(1, 123)]\n",
            "growth [(5, 123)]\n",
            "Hangul [(1, 123)]\n",
            "Hanja [(1, 123)]\n",
            "He [(1, 123), (5, 123), (5, 123), (5, 123)]\n",
            "he [(3, 123), (7, 123)]\n",
            "his [(3, 123), (3, 123), (7, 123)]\n",
            "history [(1, 123)]\n",
            "Hyang [(7, 123)]\n",
            "ill [(7, 123)]\n",
            "implemented [(5, 123)]\n",
            "in [(1, 123), (3, 123), (3, 123), (5, 123), (5, 123)]\n",
            "In [(3, 123), (3, 123)]\n",
            "increasingly [(7, 123)]\n",
            "Initially [(3, 123)]\n",
            "introduced [(5, 123)]\n",
            "inventor [(1, 123)]\n",
            "is [(1, 123), (1, 123)]\n",
            "island [(5, 123)]\n",
            "Je [(3, 123)]\n",
            "Joseon [(1, 123)]\n",
            "King [(3, 123), (3, 123)]\n",
            "known [(1, 123)]\n",
            "Korea [(1, 123)]\n",
            "Korean [(1, 123), (1, 123), (1, 123), (5, 123), (5, 123)]\n",
            "language [(1, 123)]\n",
            "later [(3, 123)]\n",
            "launched [(5, 123)]\n",
            "legal [(5, 123)]\n",
            "major [(5, 123)]\n",
            "March [(1, 123), (7, 123)]\n",
            "May [(1, 123)]\n",
            "measures [(5, 123)]\n",
            "military [(3, 123), (5, 123)]\n",
            "monarch [(1, 123)]\n",
            "months [(3, 123)]\n",
            "most [(3, 123)]\n",
            "name [(1, 123)]\n",
            "native [(1, 123)]\n",
            "Neo [(5, 123)]\n",
            "newly [(5, 123)]\n",
            "north [(5, 123)]\n",
            "notably [(3, 123)]\n",
            "Occupation [(5, 123)]\n",
            "of [(1, 123), (1, 123), (1, 123), (1, 123), (1, 123), (3, 123), (3, 123), (5, 123)]\n",
            "on [(7, 123)]\n",
            "one [(1, 123)]\n",
            "ordered [(5, 123)]\n",
            "personal [(1, 123)]\n",
            "personally [(5, 123)]\n",
            "policies [(5, 123)]\n",
            "policy [(5, 123)]\n",
            "power [(3, 123)]\n",
            "powers [(3, 123)]\n",
            "Prince [(3, 123), (7, 123)]\n",
            "prince [(3, 123)]\n",
            "promulgated [(5, 123)]\n",
            "Queen [(3, 123)]\n",
            "regarded [(1, 123)]\n",
            "regent [(7, 123)]\n",
            "reign [(3, 123)]\n",
            "reinforced [(5, 123)]\n",
            "relocation [(5, 123)]\n",
            "remembered [(1, 123)]\n",
            "replaced [(3, 123)]\n",
            "retained [(3, 123)]\n",
            "rulers [(1, 123)]\n",
            "s [(3, 123), (3, 123)]\n",
            "science [(5, 123)]\n",
            "Sejong [(1, 123), (1, 123), (3, 123), (3, 123), (3, 123), (5, 123), (7, 123)]\n",
            "settlements [(5, 123)]\n",
            "son [(3, 123), (7, 123)]\n",
            "stimulate [(5, 123)]\n",
            "Taejong [(3, 123), (3, 123), (3, 123)]\n",
            "technology [(5, 123)]\n",
            "the [(1, 123), (1, 123), (1, 123), (1, 123), (1, 123), (1, 123), (1, 123), (3, 123), (3, 123), (3, 123), (5, 123), (5, 123), (5, 123), (5, 123)]\n",
            "third [(3, 123)]\n",
            "throne [(3, 123)]\n",
            "titled [(3, 123)]\n",
            "To [(1, 123)]\n",
            "to [(3, 123), (5, 123), (5, 123)]\n",
            "Tsushima [(5, 123)]\n",
            "until [(3, 123)]\n",
            "vast [(3, 123)]\n",
            "voluntarily [(3, 123)]\n",
            "was [(1, 123), (3, 123)]\n",
            "Wongyeong [(3, 123)]\n",
            "years [(3, 123)]\n",
            "Yi [(1, 123), (3, 123), (7, 123)]\n",
            "世宗 [(1, 123)]\n",
            "世宗大王 [(1, 123)]\n",
            "徙民政策 [(5, 123)]\n",
            "忠寧大君 [(3, 123)]\n",
            "李祹 [(1, 123)]\n",
            "貢法 [(5, 123)]\n",
            "공법 [(5, 123)]\n",
            "사민정책 [(5, 123)]\n",
            "세종 [(1, 123)]\n",
            "세종대왕 [(1, 123)]\n",
            "이도 [(1, 123)]\n",
            "충녕대군 [(3, 123)]\n"
          ]
        }
      ],
      "source": [
        "#예제 4\n",
        "import sys\n",
        "import re\n",
        "import collections\n",
        "\n",
        "WORD_RE = re.compile(r'\\w+')\n",
        "index = collections.defaultdict(list)\n",
        "with open(\"sejong.txt\", encoding='utf-8') as f:\n",
        "    for line_no, line in enumerate(f, 1):\n",
        "        for match in WORD_RE.finditer(line):\n",
        "            word = match.group()\n",
        "            colum_no = match.start() + 1\n",
        "            location = (line_no, column_no)\n",
        "            index[word].append(location)\n",
        "for word in sorted(index, key=str.upper):\n",
        "    print(word, index[word])"
      ]
    },
    {
      "cell_type": "code",
      "execution_count": 44,
      "metadata": {
        "id": "yStsG7JZIYKn"
      },
      "outputs": [],
      "source": [
        "#예제 5\n",
        "class StrKeyDict0(dict):\n",
        "    def __missing__(self, key): #문자형 missing값이 들어가면 한번만 실행.\n",
        "        \"\"\"\n",
        "            isinstance가 없으면 __missing__메소드를 재귀적으로 호출\n",
        "        \"\"\"\n",
        "        if isinstance(key, str): #isinstance 확인하고자 하는 데이터, 확인하고자 하는 데이터 타입\n",
        "            raise KeyError(key)\n",
        "        return self[str(key)] #문자형이 아니면 문자형으로 바꾸고 다시 missing메소드를 호출함 isintance덕분에 재귀없이 오류코드 호출 후 종료\n",
        "    def get(self, key, default=None):\n",
        "        try:\n",
        "            return self[key] #여기서 missing메소드 호출\n",
        "        except KeyError: #KeyError라는 특정 오류 발생시\n",
        "            return default\n",
        "\n",
        "    def __contains__(self, key):\n",
        "        return key in self.keys() or str(key) in self.keys()\n",
        "\n",
        "    def __setitem__(self, key, item):\n",
        "        self.data[str(key)] = item\n"
      ]
    },
    {
      "cell_type": "code",
      "execution_count": 45,
      "metadata": {
        "colab": {
          "base_uri": "https://localhost:8080/",
          "height": 35
        },
        "id": "WI_oc-WHwDtJ",
        "outputId": "0923036a-2ab4-40f0-9cd7-5b358ddf41d9"
      },
      "outputs": [
        {
          "data": {
            "application/vnd.google.colaboratory.intrinsic+json": {
              "type": "string"
            },
            "text/plain": [
              "'two'"
            ]
          },
          "execution_count": 45,
          "metadata": {},
          "output_type": "execute_result"
        }
      ],
      "source": [
        "#예제 6-1\n",
        "d = StrKeyDict0([('2', 'two'), ('4', 'four')])\n",
        "d['2']"
      ]
    },
    {
      "cell_type": "code",
      "execution_count": 46,
      "metadata": {
        "colab": {
          "base_uri": "https://localhost:8080/",
          "height": 35
        },
        "id": "rZ9Q0BFiwJFF",
        "outputId": "a94d765b-2f0e-473b-ca01-aca1718e560c"
      },
      "outputs": [
        {
          "data": {
            "application/vnd.google.colaboratory.intrinsic+json": {
              "type": "string"
            },
            "text/plain": [
              "'four'"
            ]
          },
          "execution_count": 46,
          "metadata": {},
          "output_type": "execute_result"
        }
      ],
      "source": [
        "#예제 6-2\n",
        "d[4]"
      ]
    },
    {
      "cell_type": "code",
      "execution_count": 47,
      "metadata": {
        "colab": {
          "base_uri": "https://localhost:8080/",
          "height": 35
        },
        "id": "tspFTXhLCBct",
        "outputId": "e046e2ca-0438-4554-e7ff-80e8c4056258"
      },
      "outputs": [
        {
          "data": {
            "application/vnd.google.colaboratory.intrinsic+json": {
              "type": "string"
            },
            "text/plain": [
              "'two'"
            ]
          },
          "execution_count": 47,
          "metadata": {},
          "output_type": "execute_result"
        }
      ],
      "source": [
        "#예제 6-3\n",
        "d.get('2')"
      ]
    },
    {
      "cell_type": "code",
      "execution_count": 48,
      "metadata": {
        "colab": {
          "base_uri": "https://localhost:8080/",
          "height": 35
        },
        "id": "vn5154pBCBfD",
        "outputId": "acc199dc-98bf-424e-e989-a64105541565"
      },
      "outputs": [
        {
          "data": {
            "application/vnd.google.colaboratory.intrinsic+json": {
              "type": "string"
            },
            "text/plain": [
              "'four'"
            ]
          },
          "execution_count": 48,
          "metadata": {},
          "output_type": "execute_result"
        }
      ],
      "source": [
        "#예제 6-4\n",
        "d.get(4)"
      ]
    },
    {
      "cell_type": "code",
      "execution_count": 49,
      "metadata": {
        "colab": {
          "base_uri": "https://localhost:8080/",
          "height": 35
        },
        "id": "SXsqmH7BCBhe",
        "outputId": "5f736aaf-46c7-4eb7-fb99-2ace9af3138d"
      },
      "outputs": [
        {
          "data": {
            "application/vnd.google.colaboratory.intrinsic+json": {
              "type": "string"
            },
            "text/plain": [
              "'N/A'"
            ]
          },
          "execution_count": 49,
          "metadata": {},
          "output_type": "execute_result"
        }
      ],
      "source": [
        "#예제 6-5\n",
        "d.get(1, 'N/A')"
      ]
    },
    {
      "cell_type": "code",
      "execution_count": 50,
      "metadata": {
        "colab": {
          "base_uri": "https://localhost:8080/"
        },
        "id": "b7N44TjECBjz",
        "outputId": "24dfa00a-6e6e-44e7-fd8d-6e2324bb1b70"
      },
      "outputs": [
        {
          "data": {
            "text/plain": [
              "True"
            ]
          },
          "execution_count": 50,
          "metadata": {},
          "output_type": "execute_result"
        }
      ],
      "source": [
        "#예제 6-6\n",
        "2 in d #class에 정의된 __contains__ 특수 메소드 덕에 사용 가능."
      ]
    },
    {
      "cell_type": "code",
      "execution_count": 51,
      "metadata": {
        "colab": {
          "base_uri": "https://localhost:8080/",
          "height": 315
        },
        "id": "iFQ_egMqCBmQ",
        "outputId": "ddf98912-2698-4ec7-f0d4-850ce44072bb"
      },
      "outputs": [
        {
          "ename": "KeyError",
          "evalue": "'1'",
          "output_type": "error",
          "traceback": [
            "\u001b[0;31m---------------------------------------------------------------------------\u001b[0m",
            "\u001b[0;31mKeyError\u001b[0m                                  Traceback (most recent call last)",
            "\u001b[0;32m<ipython-input-51-175cde623a29>\u001b[0m in \u001b[0;36m<cell line: 2>\u001b[0;34m()\u001b[0m\n\u001b[1;32m      1\u001b[0m \u001b[0;31m#예제 7\u001b[0m\u001b[0;34m\u001b[0m\u001b[0;34m\u001b[0m\u001b[0m\n\u001b[0;32m----> 2\u001b[0;31m \u001b[0md\u001b[0m\u001b[0;34m[\u001b[0m\u001b[0;36m1\u001b[0m\u001b[0;34m]\u001b[0m\u001b[0;34m\u001b[0m\u001b[0;34m\u001b[0m\u001b[0m\n\u001b[0m",
            "\u001b[0;32m<ipython-input-44-a3dd4925a782>\u001b[0m in \u001b[0;36m__missing__\u001b[0;34m(self, key)\u001b[0m\n\u001b[1;32m      7\u001b[0m         \u001b[0;32mif\u001b[0m \u001b[0misinstance\u001b[0m\u001b[0;34m(\u001b[0m\u001b[0mkey\u001b[0m\u001b[0;34m,\u001b[0m \u001b[0mstr\u001b[0m\u001b[0;34m)\u001b[0m\u001b[0;34m:\u001b[0m \u001b[0;31m#isinstance 확인하고자 하는 데이터, 확인하고자 하는 데이터 타입\u001b[0m\u001b[0;34m\u001b[0m\u001b[0;34m\u001b[0m\u001b[0m\n\u001b[1;32m      8\u001b[0m             \u001b[0;32mraise\u001b[0m \u001b[0mKeyError\u001b[0m\u001b[0;34m(\u001b[0m\u001b[0mkey\u001b[0m\u001b[0;34m)\u001b[0m\u001b[0;34m\u001b[0m\u001b[0;34m\u001b[0m\u001b[0m\n\u001b[0;32m----> 9\u001b[0;31m         \u001b[0;32mreturn\u001b[0m \u001b[0mself\u001b[0m\u001b[0;34m[\u001b[0m\u001b[0mstr\u001b[0m\u001b[0;34m(\u001b[0m\u001b[0mkey\u001b[0m\u001b[0;34m)\u001b[0m\u001b[0;34m]\u001b[0m \u001b[0;31m#문자형이 아니면 문자형으로 바꾸고 다시 missing메소드를 호출함 isintance덕분에 재귀없이 오류코드 호출 후 종료\u001b[0m\u001b[0;34m\u001b[0m\u001b[0;34m\u001b[0m\u001b[0m\n\u001b[0m\u001b[1;32m     10\u001b[0m     \u001b[0;32mdef\u001b[0m \u001b[0mget\u001b[0m\u001b[0;34m(\u001b[0m\u001b[0mself\u001b[0m\u001b[0;34m,\u001b[0m \u001b[0mkey\u001b[0m\u001b[0;34m,\u001b[0m \u001b[0mdefault\u001b[0m\u001b[0;34m=\u001b[0m\u001b[0;32mNone\u001b[0m\u001b[0;34m)\u001b[0m\u001b[0;34m:\u001b[0m\u001b[0;34m\u001b[0m\u001b[0;34m\u001b[0m\u001b[0m\n\u001b[1;32m     11\u001b[0m         \u001b[0;32mtry\u001b[0m\u001b[0;34m:\u001b[0m\u001b[0;34m\u001b[0m\u001b[0;34m\u001b[0m\u001b[0m\n",
            "\u001b[0;32m<ipython-input-44-a3dd4925a782>\u001b[0m in \u001b[0;36m__missing__\u001b[0;34m(self, key)\u001b[0m\n\u001b[1;32m      6\u001b[0m         \"\"\"   \n\u001b[1;32m      7\u001b[0m         \u001b[0;32mif\u001b[0m \u001b[0misinstance\u001b[0m\u001b[0;34m(\u001b[0m\u001b[0mkey\u001b[0m\u001b[0;34m,\u001b[0m \u001b[0mstr\u001b[0m\u001b[0;34m)\u001b[0m\u001b[0;34m:\u001b[0m \u001b[0;31m#isinstance 확인하고자 하는 데이터, 확인하고자 하는 데이터 타입\u001b[0m\u001b[0;34m\u001b[0m\u001b[0;34m\u001b[0m\u001b[0m\n\u001b[0;32m----> 8\u001b[0;31m             \u001b[0;32mraise\u001b[0m \u001b[0mKeyError\u001b[0m\u001b[0;34m(\u001b[0m\u001b[0mkey\u001b[0m\u001b[0;34m)\u001b[0m\u001b[0;34m\u001b[0m\u001b[0;34m\u001b[0m\u001b[0m\n\u001b[0m\u001b[1;32m      9\u001b[0m         \u001b[0;32mreturn\u001b[0m \u001b[0mself\u001b[0m\u001b[0;34m[\u001b[0m\u001b[0mstr\u001b[0m\u001b[0;34m(\u001b[0m\u001b[0mkey\u001b[0m\u001b[0;34m)\u001b[0m\u001b[0;34m]\u001b[0m \u001b[0;31m#문자형이 아니면 문자형으로 바꾸고 다시 missing메소드를 호출함 isintance덕분에 재귀없이 오류코드 호출 후 종료\u001b[0m\u001b[0;34m\u001b[0m\u001b[0;34m\u001b[0m\u001b[0m\n\u001b[1;32m     10\u001b[0m     \u001b[0;32mdef\u001b[0m \u001b[0mget\u001b[0m\u001b[0;34m(\u001b[0m\u001b[0mself\u001b[0m\u001b[0;34m,\u001b[0m \u001b[0mkey\u001b[0m\u001b[0;34m,\u001b[0m \u001b[0mdefault\u001b[0m\u001b[0;34m=\u001b[0m\u001b[0;32mNone\u001b[0m\u001b[0;34m)\u001b[0m\u001b[0;34m:\u001b[0m\u001b[0;34m\u001b[0m\u001b[0;34m\u001b[0m\u001b[0m\n",
            "\u001b[0;31mKeyError\u001b[0m: '1'"
          ]
        }
      ],
      "source": [
        "#예제 7\n",
        "d[1]"
      ]
    },
    {
      "cell_type": "code",
      "execution_count": 52,
      "metadata": {
        "id": "GK3J4NQ8NUUp"
      },
      "outputs": [],
      "source": [
        "#예제 8\n",
        "\n",
        "class StrKetDict(collections.UserDict):\n",
        "    def __missing__(self, key):\n",
        "        if isinstance(key, str):\n",
        "            raise KeyError(key)\n",
        "        return self[str(key)]\n",
        "\n",
        "    def __contains__(self, key):\n",
        "        return str(key) in self.data\n",
        "\n",
        "    def __setitem__(self, key, item):\n",
        "        self.data[str(key)] = item #해당 딕셔너리에 새로운 키, 값 추가\n"
      ]
    },
    {
      "cell_type": "code",
      "execution_count": 53,
      "metadata": {
        "colab": {
          "base_uri": "https://localhost:8080/"
        },
        "id": "Spi6kc8UNUZL",
        "outputId": "9ef9d539-cb6e-44f9-da86-0dc88138bec1"
      },
      "outputs": [
        {
          "data": {
            "text/plain": [
              "mappingproxy({1: 'A'})"
            ]
          },
          "execution_count": 53,
          "metadata": {},
          "output_type": "execute_result"
        }
      ],
      "source": [
        "#예제 9-1\n",
        "from types import MappingProxyType #불변 맵핑\n",
        "d = {1: 'A'}\n",
        "d_proxy = MappingProxyType(d)\n",
        "d_proxy"
      ]
    },
    {
      "cell_type": "code",
      "execution_count": 54,
      "metadata": {
        "colab": {
          "base_uri": "https://localhost:8080/",
          "height": 35
        },
        "id": "fBko_qt9NUbk",
        "outputId": "552f08e9-18bc-47d1-dc36-51e7928f134d"
      },
      "outputs": [
        {
          "data": {
            "application/vnd.google.colaboratory.intrinsic+json": {
              "type": "string"
            },
            "text/plain": [
              "'A'"
            ]
          },
          "execution_count": 54,
          "metadata": {},
          "output_type": "execute_result"
        }
      ],
      "source": [
        "#예제 9-2\n",
        "d_proxy[1]"
      ]
    },
    {
      "cell_type": "code",
      "execution_count": 55,
      "metadata": {
        "colab": {
          "base_uri": "https://localhost:8080/",
          "height": 164
        },
        "id": "k3gE3X_7NUdw",
        "outputId": "1e5441af-9b81-4055-995b-f85670af2cd9"
      },
      "outputs": [
        {
          "ename": "TypeError",
          "evalue": "'mappingproxy' object does not support item assignment",
          "output_type": "error",
          "traceback": [
            "\u001b[0;31m---------------------------------------------------------------------------\u001b[0m",
            "\u001b[0;31mTypeError\u001b[0m                                 Traceback (most recent call last)",
            "\u001b[0;32m<ipython-input-55-909dbd42bef4>\u001b[0m in \u001b[0;36m<cell line: 2>\u001b[0;34m()\u001b[0m\n\u001b[1;32m      1\u001b[0m \u001b[0;31m#예제 9-3\u001b[0m\u001b[0;34m\u001b[0m\u001b[0;34m\u001b[0m\u001b[0m\n\u001b[0;32m----> 2\u001b[0;31m \u001b[0md_proxy\u001b[0m\u001b[0;34m[\u001b[0m\u001b[0;36m2\u001b[0m\u001b[0;34m]\u001b[0m \u001b[0;34m=\u001b[0m \u001b[0;34m'x'\u001b[0m \u001b[0;31m#불변맵핑이라서 맵핑에서 추가 또는 수정 불가\u001b[0m\u001b[0;34m\u001b[0m\u001b[0;34m\u001b[0m\u001b[0m\n\u001b[0m",
            "\u001b[0;31mTypeError\u001b[0m: 'mappingproxy' object does not support item assignment"
          ]
        }
      ],
      "source": [
        "#예제 9-3\n",
        "d_proxy[2] = 'x' #불변맵핑이라서 맵핑에서 추가 또는 수정 불가"
      ]
    },
    {
      "cell_type": "code",
      "execution_count": 56,
      "metadata": {
        "colab": {
          "base_uri": "https://localhost:8080/"
        },
        "id": "q7-EtcbzNUgB",
        "outputId": "41aedfe6-3238-4c9d-e745-80fb0a83c871"
      },
      "outputs": [
        {
          "data": {
            "text/plain": [
              "mappingproxy({1: 'A', 2: 'B'})"
            ]
          },
          "execution_count": 56,
          "metadata": {},
          "output_type": "execute_result"
        }
      ],
      "source": [
        "#예제 9-4\n",
        "d[2] = 'B'\n",
        "d_proxy"
      ]
    },
    {
      "cell_type": "code",
      "execution_count": 57,
      "metadata": {
        "colab": {
          "base_uri": "https://localhost:8080/"
        },
        "id": "HqdtGu5gNUkc",
        "outputId": "094e1283-182f-406f-e6a3-3d5382783b8a"
      },
      "outputs": [
        {
          "data": {
            "text/plain": [
              "{'eggs', 'spam'}"
            ]
          },
          "execution_count": 57,
          "metadata": {},
          "output_type": "execute_result"
        }
      ],
      "source": [
        "#예제 10-1\n",
        "l = ['spam', 'spam', 'eggs', 'spam']\n",
        "set(l)"
      ]
    },
    {
      "cell_type": "code",
      "execution_count": 58,
      "metadata": {
        "colab": {
          "base_uri": "https://localhost:8080/"
        },
        "id": "f2hF5bbkNUm7",
        "outputId": "32742770-779e-4cae-a374-6c47153cddc1"
      },
      "outputs": [
        {
          "data": {
            "text/plain": [
              "['spam', 'eggs']"
            ]
          },
          "execution_count": 58,
          "metadata": {},
          "output_type": "execute_result"
        }
      ],
      "source": [
        "#예제 10-2\n",
        "list(set(l))"
      ]
    },
    {
      "cell_type": "code",
      "execution_count": 59,
      "metadata": {
        "colab": {
          "base_uri": "https://localhost:8080/"
        },
        "id": "86A0WgCFNUpO",
        "outputId": "5b3ae024-afe2-48e8-bebe-99826a4bdb4b"
      },
      "outputs": [
        {
          "data": {
            "text/plain": [
              "2"
            ]
          },
          "execution_count": 59,
          "metadata": {},
          "output_type": "execute_result"
        }
      ],
      "source": [
        "#예제 11-1\n",
        "l = set([\"spam\",\"spam\",\"eggs\",\"spam\",\"eggs\",\"meats\",\"onions\",\"onions\"])\n",
        "m = set([\"eggs\", \"onions\"])\n",
        "found = len(l & m) #집합 2개의 교집합을 알아내는 코드\n",
        "found"
      ]
    },
    {
      "cell_type": "code",
      "execution_count": 60,
      "metadata": {
        "colab": {
          "base_uri": "https://localhost:8080/"
        },
        "id": "HoLA-4NJNUrj",
        "outputId": "7c1a817f-55e1-446c-bdc2-06f3c65be4f2"
      },
      "outputs": [
        {
          "data": {
            "text/plain": [
              "2"
            ]
          },
          "execution_count": 60,
          "metadata": {},
          "output_type": "execute_result"
        }
      ],
      "source": [
        "#예제 11-2\n",
        "found = 0\n",
        "for n in l: #집합이 아니어도 되는 두개의 객체 사이 공통 갯수 구하기\n",
        "    if n in m:\n",
        "        found += 1\n",
        "found"
      ]
    },
    {
      "cell_type": "code",
      "execution_count": 61,
      "metadata": {
        "colab": {
          "base_uri": "https://localhost:8080/"
        },
        "id": "903aknC8xovY",
        "outputId": "11666191-0343-4d5b-ec34-0cb75680a496"
      },
      "outputs": [
        {
          "data": {
            "text/plain": [
              "2"
            ]
          },
          "execution_count": 61,
          "metadata": {},
          "output_type": "execute_result"
        }
      ],
      "source": [
        "#예제 11-3\n",
        "found = len(l.intersection(m)) #집합 l과 m사이의 교집합\n",
        "found"
      ]
    },
    {
      "cell_type": "code",
      "execution_count": 62,
      "metadata": {
        "colab": {
          "base_uri": "https://localhost:8080/"
        },
        "id": "LUuI0ppYNUyl",
        "outputId": "c401db23-ff39-4577-c834-6f1446371a93"
      },
      "outputs": [
        {
          "name": "stdout",
          "output_type": "stream",
          "text": [
            "<class 'set'>\n",
            "{1}\n",
            "set()\n"
          ]
        }
      ],
      "source": [
        "#예제 12\n",
        "s = {1}\n",
        "print(type(s))\n",
        "print(s)\n",
        "s.pop()\n",
        "print(s)"
      ]
    },
    {
      "cell_type": "code",
      "execution_count": 63,
      "metadata": {
        "colab": {
          "base_uri": "https://localhost:8080/"
        },
        "id": "n2lo1wT0acMS",
        "outputId": "21ccd0f5-cce3-431f-ae59-fb1253c5c2b9"
      },
      "outputs": [
        {
          "data": {
            "text/plain": [
              "{'#',\n",
              " '$',\n",
              " '%',\n",
              " '+',\n",
              " '<',\n",
              " '=',\n",
              " '>',\n",
              " '¢',\n",
              " '£',\n",
              " '¤',\n",
              " '¥',\n",
              " '§',\n",
              " '©',\n",
              " '¬',\n",
              " '®',\n",
              " '°',\n",
              " '±',\n",
              " 'µ',\n",
              " '¶',\n",
              " '×',\n",
              " '÷'}"
            ]
          },
          "execution_count": 63,
          "metadata": {},
          "output_type": "execute_result"
        }
      ],
      "source": [
        "#예제 13\n",
        "from unicodedata import name\n",
        "{chr(i) for i in range(32, 256) if 'SIGN' in name(chr(i), '')}"
      ]
    },
    {
      "cell_type": "code",
      "execution_count": 64,
      "metadata": {
        "colab": {
          "base_uri": "https://localhost:8080/"
        },
        "id": "ym75lgzHacOx",
        "outputId": "53fb74a0-a11a-4a12-bae3-bfd0890e40f6"
      },
      "outputs": [
        {
          "name": "stdout",
          "output_type": "stream",
          "text": [
            "d1: dict_keys([86, 91, 1, 62, 55, 92, 81])\n",
            "d2: dict_keys([1, 55, 62, 81, 86, 91, 92])\n",
            "d3: dict_keys([55, 86, 91, 62, 81, 92, 1])\n"
          ]
        }
      ],
      "source": [
        "#예제 14\n",
        "DIAL_CODES = [\n",
        "    (86, 'China'),\n",
        "    (91, 'India'),\n",
        "    (1, 'United States'),\n",
        "    (62, 'Indonesia'),\n",
        "    (55, 'Brazil'),\n",
        "    (92, 'Pakistan'),\n",
        "    (81, 'Japan'),\n",
        "]\n",
        "d1 = dict(DIAL_CODES)\n",
        "print('d1:', d1.keys())\n",
        "d2 = dict(sorted(DIAL_CODES))\n",
        "print('d2:', d2.keys())\n",
        "d3 = dict(sorted(DIAL_CODES, key=lambda x:x[1]))\n",
        "print('d3:', d3.keys())\n",
        "assert d1 == d2 and d2 == d3"
      ]
    }
  ],
  "metadata": {
    "colab": {
      "provenance": []
    },
    "kernelspec": {
      "display_name": "Python 3",
      "name": "python3"
    },
    "language_info": {
      "codemirror_mode": {
        "name": "ipython",
        "version": 3
      },
      "file_extension": ".py",
      "mimetype": "text/x-python",
      "name": "python",
      "nbconvert_exporter": "python",
      "pygments_lexer": "ipython3",
      "version": "3.12.2"
    }
  },
  "nbformat": 4,
  "nbformat_minor": 0
}
