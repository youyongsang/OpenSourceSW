{
  "cells": [
    {
      "cell_type": "code",
      "execution_count": 73,
      "metadata": {
        "colab": {
          "base_uri": "https://localhost:8080/"
        },
        "id": "82ybLgpnXtGA",
        "outputId": "d222400c-b5e7-4264-d39d-8d127f0862d2"
      },
      "outputs": [
        {
          "data": {
            "text/plain": [
              "[36, 42, 38, 33, 64]"
            ]
          },
          "execution_count": 73,
          "metadata": {},
          "output_type": "execute_result"
        }
      ],
      "source": [
        "#예제 1\n",
        "symbols = \"$*&!@\"\n",
        "codes = []\n",
        "for symbol in symbols:\n",
        "    codes.append(ord(symbol))\n",
        "codes"
      ]
    },
    {
      "cell_type": "code",
      "execution_count": 74,
      "metadata": {
        "colab": {
          "base_uri": "https://localhost:8080/"
        },
        "id": "hGSfCzugYky-",
        "outputId": "77729bc0-1db0-4744-dd1a-bf5ebfdc1c27"
      },
      "outputs": [
        {
          "data": {
            "text/plain": [
              "[36, 42, 38, 33, 64]"
            ]
          },
          "execution_count": 74,
          "metadata": {},
          "output_type": "execute_result"
        }
      ],
      "source": [
        "#예제 2\n",
        "symbols = \"$*&!@\"\n",
        "codes = [ord(symbol) for symbol in symbols]\n",
        "codes"
      ]
    },
    {
      "cell_type": "code",
      "execution_count": 76,
      "metadata": {
        "colab": {
          "base_uri": "https://localhost:8080/"
        },
        "id": "QibAdSdsY07c",
        "outputId": "f960d0e6-f442-4568-887b-c0bc4851f55d"
      },
      "outputs": [
        {
          "name": "stdout",
          "output_type": "stream",
          "text": [
            "\"!~$$*&!@\n",
            "[34, 33, 126, 36, 36, 42, 38, 33, 64]\n"
          ]
        }
      ],
      "source": [
        "#예제 3\n",
        "x = '\"!~$$*&!@'\n",
        "dummy = [ord(x) for x in x]\n",
        "\n",
        "print(x)\n",
        "print(dummy)"
      ]
    },
    {
      "cell_type": "code",
      "execution_count": 78,
      "metadata": {
        "colab": {
          "base_uri": "https://localhost:8080/"
        },
        "id": "KyIeNz8KZPar",
        "outputId": "ff3eed8f-b43b-46c4-c82f-dd67d8267246"
      },
      "outputs": [
        {
          "name": "stdout",
          "output_type": "stream",
          "text": [
            "[34, 33, 126, 36, 36, 42, 38, 33, 64]\n"
          ]
        }
      ],
      "source": [
        "#예제 4\n",
        "symbols = '\"!~$$*&!@'\n",
        "beyond_ascil = [ord(s) for s in symbols if ord(s) > 32]\n",
        "\n",
        "print(beyond_ascil)"
      ]
    },
    {
      "cell_type": "code",
      "execution_count": 79,
      "metadata": {
        "colab": {
          "base_uri": "https://localhost:8080/"
        },
        "id": "ZWNRxsikZguF",
        "outputId": "16839027-ad1e-476e-934c-2f5eabfd55f1"
      },
      "outputs": [
        {
          "name": "stdout",
          "output_type": "stream",
          "text": [
            "[126] \n",
            "\n",
            "Map function:\n",
            ">>><map object at 0x7b0fdf075660>\n",
            "List after map:\n",
            ">>>[34, 33, 126, 36, 36, 42, 38, 33, 64]\n"
          ]
        }
      ],
      "source": [
        "#예제 5\n",
        "symbols = '\"!~$$*&!@'\n",
        "beyond_ascil = list(filter(lambda c: c > 64 , map(ord, symbols)))\n",
        "\n",
        "print(beyond_ascil, '\\n')\n",
        "\n",
        "print(f\"Map function:\\n>>>{map(ord, symbols)}\")\n",
        "print(f\"List after map:\\n>>>{list(map(ord, symbols))}\")\n"
      ]
    },
    {
      "cell_type": "code",
      "execution_count": 80,
      "metadata": {
        "colab": {
          "base_uri": "https://localhost:8080/"
        },
        "id": "tk3QaXm6Z5jV",
        "outputId": "131ad7ba-e7d0-4617-da24-1ec6e9f998cb"
      },
      "outputs": [
        {
          "name": "stdout",
          "output_type": "stream",
          "text": [
            "[('black', 'S'), ('black', 'M'), ('black', 'L'), ('white', 'S'), ('white', 'M'), ('white', 'L')]\n",
            "('black', 'S')\n",
            "('black', 'M')\n",
            "('black', 'L')\n",
            "('white', 'S')\n",
            "('white', 'M')\n",
            "('white', 'L')\n"
          ]
        }
      ],
      "source": [
        "#예제 6\n",
        "colors = ['black', 'white']\n",
        "sizes = ['S', 'M', 'L']\n",
        "tshirts = [(color, size) for color in colors for size in sizes]\n",
        "\n",
        "print(tshirts)\n",
        "\n",
        "for color in colors:\n",
        "      for size in sizes:\n",
        "          print((color, size))"
      ]
    },
    {
      "cell_type": "code",
      "execution_count": 82,
      "metadata": {
        "colab": {
          "base_uri": "https://localhost:8080/"
        },
        "id": "zrTZYiUmt61M",
        "outputId": "e7c7128f-fc3a-4cdf-ae23-4f1cc094903b"
      },
      "outputs": [
        {
          "name": "stdout",
          "output_type": "stream",
          "text": [
            "(33, 35, 94, 38, 38, 35)\n"
          ]
        }
      ],
      "source": [
        "#예제 7\n",
        "symbols = \"!#^&&#\"\n",
        "ord_s = tuple(ord(s) for s in symbols if ord(s))\n",
        "\n",
        "print(ord_s)"
      ]
    },
    {
      "cell_type": "code",
      "execution_count": 83,
      "metadata": {
        "colab": {
          "base_uri": "https://localhost:8080/"
        },
        "id": "4UoGDjBxbY_v",
        "outputId": "bee4d343-fb5e-4177-b0bb-f1718457bb38"
      },
      "outputs": [
        {
          "name": "stdout",
          "output_type": "stream",
          "text": [
            "array('I', [33, 35, 94, 38, 38, 35])\n"
          ]
        }
      ],
      "source": [
        "#예제 7\n",
        "import array\n",
        "ord_s = array.array('I', (ord(symbol) for symbol in symbols)) #타입 지정 형식 int형 배열임을 뜻함\n",
        "print(ord_s)"
      ]
    },
    {
      "cell_type": "code",
      "execution_count": 84,
      "metadata": {
        "colab": {
          "base_uri": "https://localhost:8080/"
        },
        "id": "kWFn1TjvbZCb",
        "outputId": "719e18f7-1df9-4e9c-ba17-0f153e14930f"
      },
      "outputs": [
        {
          "name": "stdout",
          "output_type": "stream",
          "text": [
            "black S\n",
            "black M\n",
            "black L\n",
            "white S\n",
            "white M\n",
            "white L\n"
          ]
        }
      ],
      "source": [
        "#예제 8\n",
        "colors = ['black', 'white']\n",
        "sizes = ['S', 'M', 'L']\n",
        "for tshirt in ('{} {}'.format(c,s) for c in colors for s in sizes):\n",
        "    print(tshirt)"
      ]
    },
    {
      "cell_type": "code",
      "execution_count": 6,
      "metadata": {
        "colab": {
          "base_uri": "https://localhost:8080/"
        },
        "id": "mSh9z9GsbZFK",
        "outputId": "0a7251ee-4a3a-48ec-b09f-8780f607eebc"
      },
      "outputs": [
        {
          "name": "stdout",
          "output_type": "stream",
          "text": [
            "BRA/CE342567\n",
            "BRA/CE342567\n",
            "BRA/CE342567\n",
            "ESP/XDA205856\n",
            "ESP/XDA205856\n",
            "ESP/XDA205856\n",
            "USA/31195855\n",
            "USA/31195855\n",
            "USA/31195855\n"
          ]
        }
      ],
      "source": [
        "#예제 9\n",
        "lax_coordinates = (33.9425, -118.408056)\n",
        "cuty, year, pop, chg, area = ('Tokyo', 2003, 32450, 0.66, 8014)\n",
        "traveler_ids = [('USA', '31195855'),\n",
        "                ('BRA', 'CE342567'),\n",
        "                ('ESP','XDA205856')]\n",
        "for passport in sorted(traveler_ids):\n",
        "    print('%s/%s'% passport)\n",
        "    print('{}/{}'.format(passport[0], passport[1]))\n",
        "    print(f'{passport[0]}/{passport[1]}')"
      ]
    },
    {
      "cell_type": "code",
      "execution_count": 85,
      "metadata": {
        "colab": {
          "base_uri": "https://localhost:8080/"
        },
        "id": "TuVkI9bKbZHu",
        "outputId": "71a47d80-9e30-44b2-ebc3-a39942178231"
      },
      "outputs": [
        {
          "name": "stdout",
          "output_type": "stream",
          "text": [
            "USA\n",
            "BRA\n",
            "ESP\n"
          ]
        }
      ],
      "source": [
        "#예제 10\n",
        "for country, _ in traveler_ids:\n",
        "    print(country)"
      ]
    },
    {
      "cell_type": "code",
      "execution_count": 87,
      "metadata": {
        "id": "Y6i_sVb6vYO4"
      },
      "outputs": [],
      "source": [
        "city, year, pop, chg, area = ('Tokyo', 2003, 32450, 0.66, 8014)"
      ]
    },
    {
      "cell_type": "code",
      "execution_count": 88,
      "metadata": {
        "colab": {
          "base_uri": "https://localhost:8080/"
        },
        "id": "z4MeGP9gJ9f4",
        "outputId": "e4fc6e4a-8bda-4a03-d8f4-3f1dda691950"
      },
      "outputs": [
        {
          "name": "stdout",
          "output_type": "stream",
          "text": [
            "USA/31195855\n"
          ]
        }
      ],
      "source": [
        "print('%s/%s'%passport)"
      ]
    },
    {
      "cell_type": "code",
      "execution_count": 89,
      "metadata": {
        "colab": {
          "base_uri": "https://localhost:8080/"
        },
        "id": "ZCDOOdvVbZKM",
        "outputId": "6080b21f-99d9-4f36-b20b-26512ec78d4c"
      },
      "outputs": [
        {
          "name": "stdout",
          "output_type": "stream",
          "text": [
            "33.9425\n",
            "-118.408056\n"
          ]
        }
      ],
      "source": [
        "#예제 11\n",
        "lax_coordinates = (33.9425, -118.408056)\n",
        "latitude, longitude = lax_coordinates # 튜플 언패킹\n",
        "print(latitude)\n",
        "print(longitude)"
      ]
    },
    {
      "cell_type": "code",
      "execution_count": 90,
      "metadata": {
        "colab": {
          "base_uri": "https://localhost:8080/"
        },
        "id": "OJBrafiOv9s9",
        "outputId": "2eb82910-9deb-4155-9e6f-e5f7082d5afc"
      },
      "outputs": [
        {
          "name": "stdout",
          "output_type": "stream",
          "text": [
            "20 10\n"
          ]
        }
      ],
      "source": [
        "#예제 12\n",
        "a = 10; b = 20\n",
        "b, a = a, b\n",
        "print(a, b)"
      ]
    },
    {
      "cell_type": "code",
      "execution_count": 91,
      "metadata": {
        "colab": {
          "base_uri": "https://localhost:8080/"
        },
        "id": "9bpsVGfQbZPE",
        "outputId": "65447c24-51bc-48f3-a2ae-8448c8f453b4"
      },
      "outputs": [
        {
          "data": {
            "text/plain": [
              "(2, 4)"
            ]
          },
          "execution_count": 91,
          "metadata": {},
          "output_type": "execute_result"
        }
      ],
      "source": [
        "#예제 13-1\n",
        "divmod(20, 8)"
      ]
    },
    {
      "cell_type": "code",
      "execution_count": 92,
      "metadata": {
        "colab": {
          "base_uri": "https://localhost:8080/"
        },
        "id": "E5fQpNk6bZRg",
        "outputId": "1f7da50d-5e36-4092-8165-bebc331adf6e"
      },
      "outputs": [
        {
          "data": {
            "text/plain": [
              "(2, 4)"
            ]
          },
          "execution_count": 92,
          "metadata": {},
          "output_type": "execute_result"
        }
      ],
      "source": [
        "#예제 13-2\n",
        "t = (20,8)\n",
        "divmod(*t) # 튜플 언패킹 *을 넣어줌으로써 변수 2개 병렬 할당 가능"
      ]
    },
    {
      "cell_type": "code",
      "execution_count": 93,
      "metadata": {
        "colab": {
          "base_uri": "https://localhost:8080/"
        },
        "id": "9wHpf7m6ey9Y",
        "outputId": "877eac19-1a48-4b14-b168-34ea0aeb91c2"
      },
      "outputs": [
        {
          "data": {
            "text/plain": [
              "(2, 4)"
            ]
          },
          "execution_count": 93,
          "metadata": {},
          "output_type": "execute_result"
        }
      ],
      "source": [
        "#예제 13-3\n",
        "quotient, remainder = divmod(*t)\n",
        "quotient, remainder"
      ]
    },
    {
      "cell_type": "code",
      "execution_count": 94,
      "metadata": {
        "colab": {
          "base_uri": "https://localhost:8080/",
          "height": 35
        },
        "id": "Edg-1srVezEE",
        "outputId": "55491cdd-d39c-4f7e-f1b2-d5385ae61f1b"
      },
      "outputs": [
        {
          "data": {
            "application/vnd.google.colaboratory.intrinsic+json": {
              "type": "string"
            },
            "text/plain": [
              "'idrsa.pub'"
            ]
          },
          "execution_count": 94,
          "metadata": {},
          "output_type": "execute_result"
        }
      ],
      "source": [
        "#예제 14\n",
        "import os\n",
        "_, filename = os.path.split('/home/luciano/.ssh/idrsa.pub')\n",
        "filename"
      ]
    },
    {
      "cell_type": "code",
      "execution_count": 95,
      "metadata": {
        "colab": {
          "base_uri": "https://localhost:8080/"
        },
        "id": "wAjsIuQKezGp",
        "outputId": "f7ad6649-8237-4780-be36-9d223897e13b"
      },
      "outputs": [
        {
          "data": {
            "text/plain": [
              "(0, 1, [2, 3, 4])"
            ]
          },
          "execution_count": 95,
          "metadata": {},
          "output_type": "execute_result"
        }
      ],
      "source": [
        "#예제 15-1\n",
        "a, b, *rest = range(5) #*resr : 나머지는 가변형 데이터로 받겠다는 뜻.\n",
        "a, b, rest"
      ]
    },
    {
      "cell_type": "code",
      "execution_count": 96,
      "metadata": {
        "colab": {
          "base_uri": "https://localhost:8080/"
        },
        "id": "SP624cOOezJF",
        "outputId": "ada71094-d9a0-4c85-ecee-f6765b0f96cf"
      },
      "outputs": [
        {
          "data": {
            "text/plain": [
              "(0, 1, [2])"
            ]
          },
          "execution_count": 96,
          "metadata": {},
          "output_type": "execute_result"
        }
      ],
      "source": [
        "#예제 15-2\n",
        "a, b, *rest = range(3)\n",
        "a, b, rest"
      ]
    },
    {
      "cell_type": "code",
      "execution_count": 97,
      "metadata": {
        "colab": {
          "base_uri": "https://localhost:8080/"
        },
        "id": "LJI-MoqkezLj",
        "outputId": "d875d1f8-12e7-4b0a-8370-8be930071a60"
      },
      "outputs": [
        {
          "data": {
            "text/plain": [
              "(0, 1, [])"
            ]
          },
          "execution_count": 97,
          "metadata": {},
          "output_type": "execute_result"
        }
      ],
      "source": [
        "#예제 15-3\n",
        "a, b, *rest = range(2)\n",
        "a, b, rest"
      ]
    },
    {
      "cell_type": "code",
      "execution_count": 98,
      "metadata": {
        "colab": {
          "base_uri": "https://localhost:8080/"
        },
        "id": "jjL1QspggY5V",
        "outputId": "b7b0d8e9-ac5c-4155-aba2-821016615a31"
      },
      "outputs": [
        {
          "data": {
            "text/plain": [
              "(0, [1, 2], 3, 4)"
            ]
          },
          "execution_count": 98,
          "metadata": {},
          "output_type": "execute_result"
        }
      ],
      "source": [
        "#예제 16-1\n",
        "a, *body, c, d = range(5)\n",
        "a, body, c, d"
      ]
    },
    {
      "cell_type": "code",
      "execution_count": 99,
      "metadata": {
        "colab": {
          "base_uri": "https://localhost:8080/"
        },
        "id": "uBeVpVkbgY7z",
        "outputId": "38003ddb-aaa8-434f-b743-b546bc8a9421"
      },
      "outputs": [
        {
          "data": {
            "text/plain": [
              "([0, 1], 2, 3, 4)"
            ]
          },
          "execution_count": 99,
          "metadata": {},
          "output_type": "execute_result"
        }
      ],
      "source": [
        "#예제 16-2\n",
        "*head, b, c, d = range(5)\n",
        "head, b, c, d"
      ]
    },
    {
      "cell_type": "code",
      "execution_count": 121,
      "metadata": {
        "colab": {
          "base_uri": "https://localhost:8080/"
        },
        "id": "gp-wP0D-gY-H",
        "outputId": "15abc116-a93c-41ea-cad3-0872538880cc"
      },
      "outputs": [
        {
          "name": "stdout",
          "output_type": "stream",
          "text": [
            "                |   lat.    |   long.  \n",
            "Mexico City     |   19.0000 |  -99.0000\n",
            "New York-Newark |   40.0000 |  -74.0000\n",
            "Sao Paulo       |  -23.0000 |  -46.0000\n"
          ]
        }
      ],
      "source": [
        "#예제 17\n",
        "metro_areas = [\n",
        "    ('Tokyo', 'JP', 36.933, (35, 139)),\n",
        "    ('Delhi NCR', 'IN', 21.935, (28, 77)),\n",
        "    ('Mexico City', 'MX', 20.142, (19, -99)),\n",
        "    ('New York-Newark', 'US', 20.104, (40, -74)),\n",
        "    ('Sao Paulo', 'BR', 19.649, (-23, -46)),\n",
        "]\n",
        "print('{:15} | {:^9} | {:^9}'.format('', 'lat.', 'long.'))\n",
        "fmt = '{:15} | {:9.4f} | {:9.4f}'\n",
        "for name, cc, pop, (latitude, longitude) in metro_areas:\n",
        "    if longitude <= 0:\n",
        "        print(fmt.format(name, latitude, longitude))"
      ]
    },
    {
      "cell_type": "code",
      "execution_count": 122,
      "metadata": {
        "colab": {
          "base_uri": "https://localhost:8080/"
        },
        "id": "7E1h4GkDgZAf",
        "outputId": "470fcfa7-f6d9-4b50-ef8d-9d2584002e78"
      },
      "outputs": [
        {
          "data": {
            "text/plain": [
              "City(name='Tokyo', country='JP', population=36.933, coordinates=(35.689, 139.691))"
            ]
          },
          "execution_count": 122,
          "metadata": {},
          "output_type": "execute_result"
        }
      ],
      "source": [
        "#예제 18-1\n",
        "from collections import namedtuple\n",
        "City = namedtuple('City','name country population coordinates')\n",
        "tokyo = City('Tokyo', 'JP', 36.933, (35.689, 139.691))\n",
        "tokyo"
      ]
    },
    {
      "cell_type": "code",
      "execution_count": 123,
      "metadata": {
        "colab": {
          "base_uri": "https://localhost:8080/"
        },
        "id": "xSJujAw-gZDA",
        "outputId": "9d40f047-d130-42e5-dbae-bdae42d62dc0"
      },
      "outputs": [
        {
          "data": {
            "text/plain": [
              "36.933"
            ]
          },
          "execution_count": 123,
          "metadata": {},
          "output_type": "execute_result"
        }
      ],
      "source": [
        "#예제 18-2\n",
        "tokyo.population"
      ]
    },
    {
      "cell_type": "code",
      "execution_count": 124,
      "metadata": {
        "colab": {
          "base_uri": "https://localhost:8080/"
        },
        "id": "V3iGOsSZgZFQ",
        "outputId": "6726a75a-d8a0-442a-b802-9a9bacc58300"
      },
      "outputs": [
        {
          "data": {
            "text/plain": [
              "(35.689, 139.691)"
            ]
          },
          "execution_count": 124,
          "metadata": {},
          "output_type": "execute_result"
        }
      ],
      "source": [
        "#예제 18-3\n",
        "tokyo.coordinates"
      ]
    },
    {
      "cell_type": "code",
      "execution_count": 125,
      "metadata": {
        "colab": {
          "base_uri": "https://localhost:8080/",
          "height": 35
        },
        "id": "HLQ0JxwpgZHi",
        "outputId": "785d6e64-0c72-4b25-f4e2-974a53a0ab84"
      },
      "outputs": [
        {
          "data": {
            "application/vnd.google.colaboratory.intrinsic+json": {
              "type": "string"
            },
            "text/plain": [
              "'JP'"
            ]
          },
          "execution_count": 125,
          "metadata": {},
          "output_type": "execute_result"
        }
      ],
      "source": [
        "#예제 18-4\n",
        "tokyo[1]"
      ]
    },
    {
      "cell_type": "code",
      "execution_count": 126,
      "metadata": {
        "colab": {
          "base_uri": "https://localhost:8080/"
        },
        "id": "raV2o171jZdp",
        "outputId": "7540e1b3-88eb-4368-afaf-6fad773bf70a"
      },
      "outputs": [
        {
          "data": {
            "text/plain": [
              "('name', 'country', 'population', 'coordinates')"
            ]
          },
          "execution_count": 126,
          "metadata": {},
          "output_type": "execute_result"
        }
      ],
      "source": [
        "#예제 19-1\n",
        "City._fields"
      ]
    },
    {
      "cell_type": "code",
      "execution_count": 128,
      "metadata": {
        "colab": {
          "base_uri": "https://localhost:8080/"
        },
        "id": "1UbSv5n7jf_b",
        "outputId": "80321152-6687-43fa-d9ed-8a38e298e1aa"
      },
      "outputs": [
        {
          "data": {
            "text/plain": [
              "{'name': 'Delhi NCR',\n",
              " 'country': 'IN',\n",
              " 'population': 21.935,\n",
              " 'coordinates': LatLong(lat=28.613, long=77.208)}"
            ]
          },
          "execution_count": 128,
          "metadata": {},
          "output_type": "execute_result"
        }
      ],
      "source": [
        "#예제 19-2\n",
        "LatLong = namedtuple('LatLong', 'lat long')\n",
        "delhi_data = ('Delhi NCR', 'IN', 21.935, LatLong(28.613, 77.208))\n",
        "delhi = City._make(delhi_data)\n",
        "delhi._asdict()"
      ]
    },
    {
      "cell_type": "code",
      "execution_count": 129,
      "metadata": {
        "colab": {
          "base_uri": "https://localhost:8080/"
        },
        "id": "2wALZxEvjgBy",
        "outputId": "6160801c-1fd6-44e7-ea38-dde5b5f19f16"
      },
      "outputs": [
        {
          "name": "stdout",
          "output_type": "stream",
          "text": [
            "name: Delhi NCR\n",
            "country: IN\n",
            "population: 21.935\n",
            "coordinates: LatLong(lat=28.613, long=77.208)\n"
          ]
        }
      ],
      "source": [
        "#예제 19-3\n",
        "for key, value in delhi._asdict().items(): #key value 추출\n",
        "    print(key + ':', value)"
      ]
    },
    {
      "cell_type": "code",
      "execution_count": 130,
      "metadata": {
        "colab": {
          "base_uri": "https://localhost:8080/"
        },
        "id": "pJ0L-LsVjgET",
        "outputId": "1a8afe8b-fc5c-498c-c0db-5f5358e5f339"
      },
      "outputs": [
        {
          "data": {
            "text/plain": [
              "[10, 20]"
            ]
          },
          "execution_count": 130,
          "metadata": {},
          "output_type": "execute_result"
        }
      ],
      "source": [
        "#예제 20-1\n",
        "ㅣ = [10, 20, 30, 40, 50, 60]\n",
        "ㅣ[:2]"
      ]
    },
    {
      "cell_type": "code",
      "execution_count": 131,
      "metadata": {
        "colab": {
          "base_uri": "https://localhost:8080/"
        },
        "id": "9MjqmV-MjgGv",
        "outputId": "98546c20-193c-41d5-ced5-746d23532394"
      },
      "outputs": [
        {
          "data": {
            "text/plain": [
              "[30, 40, 50, 60]"
            ]
          },
          "execution_count": 131,
          "metadata": {},
          "output_type": "execute_result"
        }
      ],
      "source": [
        "#예제 20-2\n",
        "ㅣ[2:]"
      ]
    },
    {
      "cell_type": "code",
      "execution_count": 133,
      "metadata": {
        "colab": {
          "base_uri": "https://localhost:8080/"
        },
        "id": "iAp4eiEnjgJK",
        "outputId": "f57c37a9-45b7-4726-ecfb-713f582b955a"
      },
      "outputs": [
        {
          "data": {
            "text/plain": [
              "[10, 20, 30]"
            ]
          },
          "execution_count": 133,
          "metadata": {},
          "output_type": "execute_result"
        }
      ],
      "source": [
        "#예제 20-3\n",
        "ㅣ[:3] #3번 인덱스에서 분할"
      ]
    },
    {
      "cell_type": "code",
      "execution_count": 134,
      "metadata": {
        "colab": {
          "base_uri": "https://localhost:8080/"
        },
        "id": "xOHRt0s5jgLi",
        "outputId": "3940b54a-8ac6-408e-e452-8c723e061ac6"
      },
      "outputs": [
        {
          "data": {
            "text/plain": [
              "[40, 50, 60]"
            ]
          },
          "execution_count": 134,
          "metadata": {},
          "output_type": "execute_result"
        }
      ],
      "source": [
        "#예제 20-4\n",
        "ㅣ[3:]"
      ]
    },
    {
      "cell_type": "code",
      "execution_count": 135,
      "metadata": {
        "colab": {
          "base_uri": "https://localhost:8080/"
        },
        "id": "Lpm3Am9wyc_3",
        "outputId": "70eb88be-02e0-4419-a630-f5742edb815f"
      },
      "outputs": [
        {
          "name": "stdout",
          "output_type": "stream",
          "text": [
            "   $17.5 Pimoroni           \n",
            "   $4.95 6mm Tactile        \n",
            " \n"
          ]
        }
      ],
      "source": [
        "#예제 21\n",
        "invoice  =\"\"\"\n",
        "0.....6..................25........33......40.......\n",
        "1909  Pimoroni              $17.50    3     $52.50\n",
        "1489  6mm Tactile           $4.95     2     $9.90\n",
        "\"\"\"\n",
        "\n",
        "SKU = slice(0, 6)\n",
        "DESCRIPTION = slice(6, 25)\n",
        "UNIT_PRICE = slice(25, 33)\n",
        "QUANTITY = slice(33, 40)\n",
        "ITEM_TOTAL = slice(40, None)\n",
        "\n",
        "line_items = invoice.split('\\n')[2:]\n",
        "\n",
        "for item in line_items:\n",
        "    print(item[UNIT_PRICE], item[DESCRIPTION])"
      ]
    },
    {
      "cell_type": "code",
      "execution_count": 144,
      "metadata": {
        "colab": {
          "base_uri": "https://localhost:8080/"
        },
        "id": "1Du-xUvC0rui",
        "outputId": "23eb94c5-d5dc-451f-f7e5-a836aee91b20"
      },
      "outputs": [
        {
          "data": {
            "text/plain": [
              "[0, 1, 2, 3, 4, 5, 6, 7, 8, 9]"
            ]
          },
          "execution_count": 144,
          "metadata": {},
          "output_type": "execute_result"
        }
      ],
      "source": [
        "#예제 22-1\n",
        "l = list(range(10))\n",
        "l"
      ]
    },
    {
      "cell_type": "code",
      "execution_count": 145,
      "metadata": {
        "colab": {
          "base_uri": "https://localhost:8080/"
        },
        "id": "-NISzJ5a0rx9",
        "outputId": "00436b2c-2d55-423e-bf8d-b66fe9d9c445"
      },
      "outputs": [
        {
          "data": {
            "text/plain": [
              "[0, 1, 20, 30, 5, 6, 7, 8, 9]"
            ]
          },
          "execution_count": 145,
          "metadata": {},
          "output_type": "execute_result"
        }
      ],
      "source": [
        "#예제 22-2\n",
        "l[2:5] = [20,30]\n",
        "l"
      ]
    },
    {
      "cell_type": "code",
      "execution_count": 146,
      "metadata": {
        "colab": {
          "base_uri": "https://localhost:8080/"
        },
        "id": "ggMLoq3I0-JD",
        "outputId": "8cf6566c-0f9b-4134-b2a2-a920afdc6701"
      },
      "outputs": [
        {
          "data": {
            "text/plain": [
              "[0, 1, 20, 30, 5, 8, 9]"
            ]
          },
          "execution_count": 146,
          "metadata": {},
          "output_type": "execute_result"
        }
      ],
      "source": [
        "#예제 22-3\n",
        "del l[5:7]\n",
        "l"
      ]
    },
    {
      "cell_type": "code",
      "execution_count": 147,
      "metadata": {
        "colab": {
          "base_uri": "https://localhost:8080/"
        },
        "id": "spDzopCO0-Lp",
        "outputId": "33d98bb5-08de-452c-b382-f861fc98734f"
      },
      "outputs": [
        {
          "data": {
            "text/plain": [
              "[0, 1, 20, 11, 5, 22, 9]"
            ]
          },
          "execution_count": 147,
          "metadata": {},
          "output_type": "execute_result"
        }
      ],
      "source": [
        "#예제 22-4\n",
        "l[3::2] = [11, 22]\n",
        "l"
      ]
    },
    {
      "cell_type": "code",
      "execution_count": 140,
      "metadata": {
        "colab": {
          "base_uri": "https://localhost:8080/",
          "height": 164
        },
        "id": "7kQPoCvL0-Og",
        "outputId": "6a7f7151-b70d-48e9-876e-f51182dd4055"
      },
      "outputs": [
        {
          "ename": "TypeError",
          "evalue": "can only assign an iterable",
          "output_type": "error",
          "traceback": [
            "\u001b[0;31m---------------------------------------------------------------------------\u001b[0m",
            "\u001b[0;31mTypeError\u001b[0m                                 Traceback (most recent call last)",
            "\u001b[0;32m<ipython-input-140-16d3d72b9120>\u001b[0m in \u001b[0;36m<cell line: 2>\u001b[0;34m()\u001b[0m\n\u001b[1;32m      1\u001b[0m \u001b[0;31m#예제 23\u001b[0m\u001b[0;34m\u001b[0m\u001b[0;34m\u001b[0m\u001b[0m\n\u001b[0;32m----> 2\u001b[0;31m \u001b[0ml\u001b[0m\u001b[0;34m[\u001b[0m\u001b[0;36m2\u001b[0m\u001b[0;34m:\u001b[0m\u001b[0;36m5\u001b[0m\u001b[0;34m]\u001b[0m \u001b[0;34m=\u001b[0m \u001b[0;36m100\u001b[0m \u001b[0;31m#오류\u001b[0m\u001b[0;34m\u001b[0m\u001b[0;34m\u001b[0m\u001b[0m\n\u001b[0m",
            "\u001b[0;31mTypeError\u001b[0m: can only assign an iterable"
          ]
        }
      ],
      "source": [
        "#예제 23\n",
        "l[2:5] = 100 #오류"
      ]
    },
    {
      "cell_type": "code",
      "execution_count": 148,
      "metadata": {
        "colab": {
          "base_uri": "https://localhost:8080/"
        },
        "id": "5cBb-o8Z0-SA",
        "outputId": "f88cfe6c-0158-4a77-a0bd-a39fd461374d"
      },
      "outputs": [
        {
          "data": {
            "text/plain": [
              "[0, 1, 100, 22, 9]"
            ]
          },
          "execution_count": 148,
          "metadata": {},
          "output_type": "execute_result"
        }
      ],
      "source": [
        "#예제 24\n",
        "l[2:5] = [100]\n",
        "l"
      ]
    },
    {
      "cell_type": "code",
      "execution_count": 149,
      "metadata": {
        "colab": {
          "base_uri": "https://localhost:8080/"
        },
        "id": "2Vo9HBFQ1vfH",
        "outputId": "34cb4f5f-1ab4-4874-ff1e-0ba60fc1974a"
      },
      "outputs": [
        {
          "data": {
            "text/plain": [
              "[1, 2, 3, 1, 2, 3, 1, 2, 3, 1, 2, 3, 1, 2, 3]"
            ]
          },
          "execution_count": 149,
          "metadata": {},
          "output_type": "execute_result"
        }
      ],
      "source": [
        "#예제 25-1\n",
        "l = [1, 2, 3]\n",
        "l * 5"
      ]
    },
    {
      "cell_type": "code",
      "execution_count": 150,
      "metadata": {
        "colab": {
          "base_uri": "https://localhost:8080/",
          "height": 35
        },
        "id": "fBYQgJd21vhR",
        "outputId": "9ddea7ad-ce07-46d9-eab3-152313000df8"
      },
      "outputs": [
        {
          "data": {
            "application/vnd.google.colaboratory.intrinsic+json": {
              "type": "string"
            },
            "text/plain": [
              "'abcdabcdabcdabcdabcd'"
            ]
          },
          "execution_count": 150,
          "metadata": {},
          "output_type": "execute_result"
        }
      ],
      "source": [
        "#예제 25-2\n",
        "5 * 'abcd'"
      ]
    },
    {
      "cell_type": "code",
      "execution_count": 151,
      "metadata": {
        "colab": {
          "base_uri": "https://localhost:8080/"
        },
        "id": "ZQzM93Rr1vkr",
        "outputId": "5e5ea356-40e8-4995-cfca-5aa8f1f12b4b"
      },
      "outputs": [
        {
          "data": {
            "text/plain": [
              "[['_', '_', '_'], ['_', '_', '_'], ['_', '_', '_']]"
            ]
          },
          "execution_count": 151,
          "metadata": {},
          "output_type": "execute_result"
        }
      ],
      "source": [
        "#예제 26-1\n",
        "board = [['_'] * 3 for i in range(3)]\n",
        "board"
      ]
    },
    {
      "cell_type": "code",
      "execution_count": 152,
      "metadata": {
        "colab": {
          "base_uri": "https://localhost:8080/"
        },
        "id": "FBJD5cNQ1vs-",
        "outputId": "0a8be99b-df24-459a-9d4f-ef45b8c266cb"
      },
      "outputs": [
        {
          "data": {
            "text/plain": [
              "[['_', '_', '_'], ['_', '_', 'x'], ['_', '_', '_']]"
            ]
          },
          "execution_count": 152,
          "metadata": {},
          "output_type": "execute_result"
        }
      ],
      "source": [
        "#예제 26-2\n",
        "board[1][2] = 'x'\n",
        "board"
      ]
    },
    {
      "cell_type": "code",
      "execution_count": 153,
      "metadata": {
        "colab": {
          "base_uri": "https://localhost:8080/"
        },
        "id": "rRRDJbkT1v1O",
        "outputId": "d32caecf-4eda-4afd-d03c-5f7a51b7cd34"
      },
      "outputs": [
        {
          "data": {
            "text/plain": [
              "[['_', '_', '_'], ['_', '_', '_'], ['_', '_', '_']]"
            ]
          },
          "execution_count": 153,
          "metadata": {},
          "output_type": "execute_result"
        }
      ],
      "source": [
        "#예제 27-1\n",
        "weird_board = [['_'] * 3] * 3\n",
        "weird_board"
      ]
    },
    {
      "cell_type": "code",
      "execution_count": 154,
      "metadata": {
        "colab": {
          "base_uri": "https://localhost:8080/"
        },
        "id": "YJhLKyHo1v78",
        "outputId": "902e6c5f-7b03-4d10-8fc3-9b930d15fae3"
      },
      "outputs": [
        {
          "data": {
            "text/plain": [
              "[['_', '_', '0'], ['_', '_', '0'], ['_', '_', '0']]"
            ]
          },
          "execution_count": 154,
          "metadata": {},
          "output_type": "execute_result"
        }
      ],
      "source": [
        "#예제 27-2\n",
        "weird_board[1][2] = '0'\n",
        "weird_board"
      ]
    },
    {
      "cell_type": "code",
      "execution_count": 155,
      "metadata": {
        "colab": {
          "base_uri": "https://localhost:8080/"
        },
        "id": "E0v-3rJb1wDb",
        "outputId": "1ab8fa19-3875-4567-bfc3-a9f2e77cfc1f"
      },
      "outputs": [
        {
          "data": {
            "text/plain": [
              "[['_', '_', 'x'], ['_', '_', 'x'], ['_', '_', 'x']]"
            ]
          },
          "execution_count": 155,
          "metadata": {},
          "output_type": "execute_result"
        }
      ],
      "source": [
        "#예제 28\n",
        "row = ['_'] * 3 #한번 생성한 걸 여러번 사용\n",
        "board = []\n",
        "for i in range(3):\n",
        "    board.append(row)\n",
        "\n",
        "board[1][2] = 'x'\n",
        "board"
      ]
    },
    {
      "cell_type": "code",
      "execution_count": 156,
      "metadata": {
        "colab": {
          "base_uri": "https://localhost:8080/"
        },
        "id": "0LBgWpLA1wGr",
        "outputId": "8c5f1796-b9ff-4413-cac6-142e43fc8c1b"
      },
      "outputs": [
        {
          "name": "stdout",
          "output_type": "stream",
          "text": [
            "[['_', '_', '_'], ['_', '_', '_'], ['_', '_', '_']]\n"
          ]
        },
        {
          "data": {
            "text/plain": [
              "[['_', '_', '_'], ['_', '_', '_'], ['x', '_', '_']]"
            ]
          },
          "execution_count": 156,
          "metadata": {},
          "output_type": "execute_result"
        }
      ],
      "source": [
        "#예제 29\n",
        "board = []\n",
        "for i in range(3):\n",
        "    row = ['_'] * 3 #반복문마다 새로 생성. 참조주소가 달라서 변화시킨다해도 나머지가 바뀌지 않음\n",
        "    board.append(row)\n",
        "print(board)\n",
        "board[2][0] = 'x'\n",
        "board"
      ]
    },
    {
      "cell_type": "code",
      "execution_count": 157,
      "metadata": {
        "colab": {
          "base_uri": "https://localhost:8080/"
        },
        "id": "RcPqpLAj4VKD",
        "outputId": "7f8eb161-17fa-4ef8-8778-1b85d2a7d686"
      },
      "outputs": [
        {
          "data": {
            "text/plain": [
              "135308600971968"
            ]
          },
          "execution_count": 157,
          "metadata": {},
          "output_type": "execute_result"
        }
      ],
      "source": [
        "#예제 30-1\n",
        "l = [1, 2, 3]\n",
        "id(l)"
      ]
    },
    {
      "cell_type": "code",
      "execution_count": 158,
      "metadata": {
        "colab": {
          "base_uri": "https://localhost:8080/"
        },
        "id": "k8q-x8AE1wJ6",
        "outputId": "d9538673-eb84-41c5-81b2-62c1d783e8de"
      },
      "outputs": [
        {
          "data": {
            "text/plain": [
              "[1, 2, 3, 1, 2, 3]"
            ]
          },
          "execution_count": 158,
          "metadata": {},
          "output_type": "execute_result"
        }
      ],
      "source": [
        "#예제 30-2\n",
        "l *= 2\n",
        "l"
      ]
    },
    {
      "cell_type": "code",
      "execution_count": 159,
      "metadata": {
        "colab": {
          "base_uri": "https://localhost:8080/"
        },
        "id": "4bX88Tuz1wM5",
        "outputId": "2c1cf898-e07d-4d34-a57c-ef9d0c4cde32"
      },
      "outputs": [
        {
          "data": {
            "text/plain": [
              "135308600971968"
            ]
          },
          "execution_count": 159,
          "metadata": {},
          "output_type": "execute_result"
        }
      ],
      "source": [
        "#예제 30-3\n",
        "id(l)"
      ]
    },
    {
      "cell_type": "code",
      "execution_count": 160,
      "metadata": {
        "colab": {
          "base_uri": "https://localhost:8080/"
        },
        "id": "EbWSdipG1wQ8",
        "outputId": "e18baceb-7243-40a8-b2b8-9d4d2e8c3320"
      },
      "outputs": [
        {
          "data": {
            "text/plain": [
              "135308600970432"
            ]
          },
          "execution_count": 160,
          "metadata": {},
          "output_type": "execute_result"
        }
      ],
      "source": [
        "#예제 31-1\n",
        "t = (1, 2, 3)\n",
        "id(t)"
      ]
    },
    {
      "cell_type": "code",
      "execution_count": 161,
      "metadata": {
        "colab": {
          "base_uri": "https://localhost:8080/"
        },
        "id": "zrDjfXl41wU9",
        "outputId": "c3658120-94d7-4e90-cf84-641d391fb076"
      },
      "outputs": [
        {
          "data": {
            "text/plain": [
              "135308599427136"
            ]
          },
          "execution_count": 161,
          "metadata": {},
          "output_type": "execute_result"
        }
      ],
      "source": [
        "#예제 31-2\n",
        "t *= 2\n",
        "id(t)"
      ]
    },
    {
      "cell_type": "code",
      "execution_count": 162,
      "metadata": {
        "colab": {
          "base_uri": "https://localhost:8080/",
          "height": 237
        },
        "id": "A2EZu6KP1wY7",
        "outputId": "f66681a6-7402-4f5e-a596-c7fa5976fc99"
      },
      "outputs": [
        {
          "name": "stdout",
          "output_type": "stream",
          "text": [
            "(1, 2, [30, 40])\n"
          ]
        },
        {
          "ename": "TypeError",
          "evalue": "'tuple' object does not support item assignment",
          "output_type": "error",
          "traceback": [
            "\u001b[0;31m---------------------------------------------------------------------------\u001b[0m",
            "\u001b[0;31mTypeError\u001b[0m                                 Traceback (most recent call last)",
            "\u001b[0;32m<ipython-input-162-41feae3a3f46>\u001b[0m in \u001b[0;36m<cell line: 5>\u001b[0;34m()\u001b[0m\n\u001b[1;32m      3\u001b[0m \u001b[0mprint\u001b[0m\u001b[0;34m(\u001b[0m\u001b[0mt\u001b[0m\u001b[0;34m)\u001b[0m\u001b[0;34m\u001b[0m\u001b[0;34m\u001b[0m\u001b[0m\n\u001b[1;32m      4\u001b[0m \u001b[0;34m\u001b[0m\u001b[0m\n\u001b[0;32m----> 5\u001b[0;31m \u001b[0mt\u001b[0m\u001b[0;34m[\u001b[0m\u001b[0;36m2\u001b[0m\u001b[0;34m]\u001b[0m \u001b[0;34m+=\u001b[0m \u001b[0;34m[\u001b[0m\u001b[0;36m50\u001b[0m\u001b[0;34m,\u001b[0m \u001b[0;36m60\u001b[0m\u001b[0;34m]\u001b[0m \u001b[0;31m#덧셈 먼저 하고 실행 결과를 확인하기 때문에 a도 맞고 오류가뜨는 b도 맞다. 이때 t[2] = t[2] + [50, 60]은 실행 결과를 보고 그걸 튜플에 넣는거기 때문에 확인과정에서\u001b[0m\u001b[0;34m\u001b[0m\u001b[0;34m\u001b[0m\u001b[0m\n\u001b[0m\u001b[1;32m      6\u001b[0m \u001b[0;31m#오류가 생기고 t는 바뀌지 않는다.\u001b[0m\u001b[0;34m\u001b[0m\u001b[0;34m\u001b[0m\u001b[0m\n\u001b[1;32m      7\u001b[0m \u001b[0;34m\u001b[0m\u001b[0m\n",
            "\u001b[0;31mTypeError\u001b[0m: 'tuple' object does not support item assignment"
          ]
        }
      ],
      "source": [
        "#예제 32\n",
        "t = (1, 2, [30, 40])\n",
        "print(t)\n",
        "\n",
        "t[2] += [50, 60] #덧셈 먼저 하고 실행 결과를 확인하기 때문에 a도 맞고 오류가뜨는 b도 맞다. 이때 t[2] = t[2] + [50, 60]은 실행 결과를 보고 그걸 튜플에 넣는거기 때문에 확인과정에서\n",
        "#오류가 생기고 t는 바뀌지 않는다.\n",
        "\n",
        "\"\"\"\n",
        "a. t는 (1, 2, [30, 40, 50, 60])이 된다.\n",
        "b. '튜플 객체는 항목 할당을 지원하지 않는다'는 메세지와 함께 TypeError가 발생한다.\n",
        "c. a와 b 둘 다 틀리다.\n",
        "d. a와 b 둘 다 맞다.\n",
        "\"\"\""
      ]
    },
    {
      "cell_type": "code",
      "execution_count": 163,
      "metadata": {
        "colab": {
          "base_uri": "https://localhost:8080/"
        },
        "id": "D76juF6k1wcu",
        "outputId": "3f6431db-ba4c-496e-ab1f-6deab4101e27"
      },
      "outputs": [
        {
          "name": "stdout",
          "output_type": "stream",
          "text": [
            "(1, 2, [30, 40, 50, 60])\n"
          ]
        }
      ],
      "source": [
        "#예제 33\n",
        "print(t)"
      ]
    },
    {
      "cell_type": "code",
      "execution_count": 164,
      "metadata": {
        "colab": {
          "base_uri": "https://localhost:8080/"
        },
        "id": "pPOSSKc71wg5",
        "outputId": "13436d67-0516-4750-e17f-5ecff4b79d1a"
      },
      "outputs": [
        {
          "data": {
            "text/plain": [
              "['apple', 'banana', 'grape', 'raspberry']"
            ]
          },
          "execution_count": 164,
          "metadata": {},
          "output_type": "execute_result"
        }
      ],
      "source": [
        "#예제 34-1\n",
        "fruits = ['grape', 'raspberry', 'apple', 'banana']\n",
        "sorted(fruits)"
      ]
    },
    {
      "cell_type": "code",
      "execution_count": 165,
      "metadata": {
        "colab": {
          "base_uri": "https://localhost:8080/"
        },
        "id": "p0eINfWC5v9c",
        "outputId": "fa81c915-2e1d-48bc-f472-53cf0cd2d216"
      },
      "outputs": [
        {
          "data": {
            "text/plain": [
              "['grape', 'raspberry', 'apple', 'banana']"
            ]
          },
          "execution_count": 165,
          "metadata": {},
          "output_type": "execute_result"
        }
      ],
      "source": [
        "#예제 34-2\n",
        "fruits"
      ]
    },
    {
      "cell_type": "code",
      "execution_count": 166,
      "metadata": {
        "colab": {
          "base_uri": "https://localhost:8080/"
        },
        "id": "Y8-NAnFQ5wPs",
        "outputId": "42b26470-11ec-4ddb-b300-0c679ffdbab1"
      },
      "outputs": [
        {
          "data": {
            "text/plain": [
              "['raspberry', 'grape', 'banana', 'apple']"
            ]
          },
          "execution_count": 166,
          "metadata": {},
          "output_type": "execute_result"
        }
      ],
      "source": [
        "#예제 34-3\n",
        "sorted(fruits, reverse=True)"
      ]
    },
    {
      "cell_type": "code",
      "execution_count": 167,
      "metadata": {
        "colab": {
          "base_uri": "https://localhost:8080/"
        },
        "id": "zYu6Z57t5wVU",
        "outputId": "8a98f395-0ba0-479d-c96d-78c5dc528ce8"
      },
      "outputs": [
        {
          "data": {
            "text/plain": [
              "['grape', 'apple', 'banana', 'raspberry']"
            ]
          },
          "execution_count": 167,
          "metadata": {},
          "output_type": "execute_result"
        }
      ],
      "source": [
        "#예제 34-4\n",
        "sorted(fruits, key=len)"
      ]
    },
    {
      "cell_type": "code",
      "execution_count": 168,
      "metadata": {
        "colab": {
          "base_uri": "https://localhost:8080/"
        },
        "id": "l2yhKN9v5wbO",
        "outputId": "79d17c50-7204-4653-8b9a-d6253b3468be"
      },
      "outputs": [
        {
          "data": {
            "text/plain": [
              "['raspberry', 'banana', 'grape', 'apple']"
            ]
          },
          "execution_count": 168,
          "metadata": {},
          "output_type": "execute_result"
        }
      ],
      "source": [
        "#예제 35-1\n",
        "sorted(fruits, key=len, reverse=True)"
      ]
    },
    {
      "cell_type": "code",
      "execution_count": 169,
      "metadata": {
        "colab": {
          "base_uri": "https://localhost:8080/"
        },
        "id": "-pTvWwAM5whA",
        "outputId": "d0900f17-2126-4371-9396-12945506523b"
      },
      "outputs": [
        {
          "data": {
            "text/plain": [
              "['grape', 'raspberry', 'apple', 'banana']"
            ]
          },
          "execution_count": 169,
          "metadata": {},
          "output_type": "execute_result"
        }
      ],
      "source": [
        "#예제 35-2\n",
        "fruits"
      ]
    },
    {
      "cell_type": "code",
      "execution_count": 170,
      "metadata": {
        "colab": {
          "base_uri": "https://localhost:8080/"
        },
        "id": "WhifE2O15wmq",
        "outputId": "a4646858-8791-42f5-e792-9c2e89b2b0b3"
      },
      "outputs": [
        {
          "data": {
            "text/plain": [
              "['apple', 'banana', 'grape', 'raspberry']"
            ]
          },
          "execution_count": 170,
          "metadata": {},
          "output_type": "execute_result"
        }
      ],
      "source": [
        "#예제 35-3\n",
        "fruits.sort() #기존 리스트를 바꿈\n",
        "fruits"
      ]
    },
    {
      "cell_type": "code",
      "execution_count": 171,
      "metadata": {
        "colab": {
          "base_uri": "https://localhost:8080/"
        },
        "id": "h-i7jG0z5wsT",
        "outputId": "fbf012b0-4ca3-42db-8aa4-826ed5dba423"
      },
      "outputs": [
        {
          "data": {
            "text/plain": [
              "0.2390636773131889"
            ]
          },
          "execution_count": 171,
          "metadata": {},
          "output_type": "execute_result"
        }
      ],
      "source": [
        "#예제 36\n",
        "from array import array\n",
        "from random import random\n",
        "\n",
        "floats = array('d', (random() for i in range(10**7))) #double타입 배열 생성\n",
        "floats[-1]"
      ]
    },
    {
      "cell_type": "code",
      "execution_count": 172,
      "metadata": {
        "colab": {
          "base_uri": "https://localhost:8080/"
        },
        "id": "N59E3NgO5wxo",
        "outputId": "8fcb35cb-1890-42ed-9e38-b02fbed60979"
      },
      "outputs": [
        {
          "data": {
            "text/plain": [
              "0.2390636773131889"
            ]
          },
          "execution_count": 172,
          "metadata": {},
          "output_type": "execute_result"
        }
      ],
      "source": [
        "#예제 37-1\n",
        "with open('floats.bin', 'wb') as f:\n",
        "    floats.tofile(f)\n",
        "floats2 = array('d')\n",
        "\n",
        "with open ('floats.bin', 'rb') as f:\n",
        "    floats2.fromfile(f, 10**7)\n",
        "\n",
        "floats2[-1]"
      ]
    },
    {
      "cell_type": "code",
      "execution_count": 173,
      "metadata": {
        "colab": {
          "base_uri": "https://localhost:8080/"
        },
        "id": "OmrZx0n75w3D",
        "outputId": "031e3579-8980-4731-c6b7-90dc97e6948f"
      },
      "outputs": [
        {
          "data": {
            "text/plain": [
              "True"
            ]
          },
          "execution_count": 173,
          "metadata": {},
          "output_type": "execute_result"
        }
      ],
      "source": [
        "#예제 37-2\n",
        "floats == floats2"
      ]
    },
    {
      "cell_type": "code",
      "execution_count": 174,
      "metadata": {
        "colab": {
          "base_uri": "https://localhost:8080/"
        },
        "id": "5GpFWui45w8f",
        "outputId": "ae749dac-a3c9-4cec-f449-23c418a5ed9d"
      },
      "outputs": [
        {
          "data": {
            "text/plain": [
              "5"
            ]
          },
          "execution_count": 174,
          "metadata": {},
          "output_type": "execute_result"
        }
      ],
      "source": [
        "#예제 38-1\n",
        "import array\n",
        "numbers = array.array('h', [-2, -1, 0, 1, 2]) #타입코드 h : sigh shirt int\n",
        "memv = memoryview(numbers)\n",
        "len(memv)"
      ]
    },
    {
      "cell_type": "code",
      "execution_count": 175,
      "metadata": {
        "colab": {
          "base_uri": "https://localhost:8080/"
        },
        "id": "riAmVIeu5xB9",
        "outputId": "327f8ee2-a313-4e68-d91e-a821a3a2e44c"
      },
      "outputs": [
        {
          "data": {
            "text/plain": [
              "-2"
            ]
          },
          "execution_count": 175,
          "metadata": {},
          "output_type": "execute_result"
        }
      ],
      "source": [
        "#예제 38-2\n",
        "memv[0]"
      ]
    },
    {
      "cell_type": "code",
      "execution_count": 176,
      "metadata": {
        "colab": {
          "base_uri": "https://localhost:8080/"
        },
        "id": "wsRVaaAx5xGs",
        "outputId": "ffa79b67-289b-4da8-9adf-f05b7b538f24"
      },
      "outputs": [
        {
          "data": {
            "text/plain": [
              "[254, 255, 255, 255, 0, 0, 1, 0, 2, 0]"
            ]
          },
          "execution_count": 176,
          "metadata": {},
          "output_type": "execute_result"
        }
      ],
      "source": [
        "#예제 38-3\n",
        "memv_oct = memv.cast('B') #타입코드 B : unsigned char위에 int타입코드는 2바이트였는데 1바이트인 char형으로 변형하여서 2개씩 출력된다.\n",
        "memv_oct.tolist() #254, 255 = -2 255, 255 = -1 ..."
      ]
    },
    {
      "cell_type": "code",
      "execution_count": 178,
      "metadata": {
        "colab": {
          "base_uri": "https://localhost:8080/"
        },
        "id": "upLW0BIC5xLl",
        "outputId": "e4b18bdd-b24e-437c-8f9f-29a5aecc86f2"
      },
      "outputs": [
        {
          "data": {
            "text/plain": [
              "array('h', [-2, -1, 1024, 1, 2])"
            ]
          },
          "execution_count": 178,
          "metadata": {},
          "output_type": "execute_result"
        }
      ],
      "source": [
        "#예제 38-4\n",
        "memv_oct[5] = 4\n",
        "numbers"
      ]
    },
    {
      "cell_type": "code",
      "execution_count": 179,
      "metadata": {
        "colab": {
          "base_uri": "https://localhost:8080/"
        },
        "id": "Oizu_lEC5xQV",
        "outputId": "cb01e7fc-76d6-4065-93c3-4798b4dcb9c4"
      },
      "outputs": [
        {
          "data": {
            "text/plain": [
              "array([ 0,  1,  2,  3,  4,  5,  6,  7,  8,  9, 10, 11])"
            ]
          },
          "execution_count": 179,
          "metadata": {},
          "output_type": "execute_result"
        }
      ],
      "source": [
        "#예제 39-1\n",
        "import numpy\n",
        "a = numpy.arange(12)\n",
        "a"
      ]
    },
    {
      "cell_type": "code",
      "execution_count": 180,
      "metadata": {
        "colab": {
          "base_uri": "https://localhost:8080/"
        },
        "id": "zdp8VoSijgON",
        "outputId": "e0c8328c-b1b1-4bd9-adaf-839ed9a5c228"
      },
      "outputs": [
        {
          "data": {
            "text/plain": [
              "numpy.ndarray"
            ]
          },
          "execution_count": 180,
          "metadata": {},
          "output_type": "execute_result"
        }
      ],
      "source": [
        "#예제 39-2\n",
        "type(a)"
      ]
    },
    {
      "cell_type": "code",
      "execution_count": 181,
      "metadata": {
        "colab": {
          "base_uri": "https://localhost:8080/"
        },
        "id": "FRKgPuLS0rNM",
        "outputId": "09db2b23-088a-4f68-b495-9e4b43868106"
      },
      "outputs": [
        {
          "data": {
            "text/plain": [
              "(12,)"
            ]
          },
          "execution_count": 181,
          "metadata": {},
          "output_type": "execute_result"
        }
      ],
      "source": [
        "#예제 40-1\n",
        "a.shape"
      ]
    },
    {
      "cell_type": "code",
      "execution_count": 182,
      "metadata": {
        "colab": {
          "base_uri": "https://localhost:8080/"
        },
        "id": "H2mOsLGZjgQk",
        "outputId": "25a2ea0e-6362-48ee-b898-e726ef082d7b"
      },
      "outputs": [
        {
          "data": {
            "text/plain": [
              "array([[ 0,  1,  2,  3],\n",
              "       [ 4,  5,  6,  7],\n",
              "       [ 8,  9, 10, 11]])"
            ]
          },
          "execution_count": 182,
          "metadata": {},
          "output_type": "execute_result"
        }
      ],
      "source": [
        "#예제 40-2\n",
        "a.shape = 3,4\n",
        "a"
      ]
    },
    {
      "cell_type": "code",
      "execution_count": 183,
      "metadata": {
        "colab": {
          "base_uri": "https://localhost:8080/"
        },
        "id": "DMlE9Xe7jgTH",
        "outputId": "3946cccc-b2e7-4d32-dc41-fbedb13b8309"
      },
      "outputs": [
        {
          "data": {
            "text/plain": [
              "array([ 8,  9, 10, 11])"
            ]
          },
          "execution_count": 183,
          "metadata": {},
          "output_type": "execute_result"
        }
      ],
      "source": [
        "#예제 41-1\n",
        "a[2]"
      ]
    },
    {
      "cell_type": "code",
      "execution_count": 185,
      "metadata": {
        "colab": {
          "base_uri": "https://localhost:8080/"
        },
        "id": "s2AmL9F-jgVb",
        "outputId": "8086ebd6-1b83-4688-e5b0-dad9e8222021"
      },
      "outputs": [
        {
          "data": {
            "text/plain": [
              "9"
            ]
          },
          "execution_count": 185,
          "metadata": {},
          "output_type": "execute_result"
        }
      ],
      "source": [
        "#예제 41-2\n",
        "a[2,1]"
      ]
    },
    {
      "cell_type": "code",
      "execution_count": 184,
      "metadata": {
        "colab": {
          "base_uri": "https://localhost:8080/"
        },
        "id": "qIbd7F3JjgX7",
        "outputId": "825adba5-8b6c-4a97-e7b1-aad0cfe75372"
      },
      "outputs": [
        {
          "data": {
            "text/plain": [
              "array([1, 5, 9])"
            ]
          },
          "execution_count": 184,
          "metadata": {},
          "output_type": "execute_result"
        }
      ],
      "source": [
        "#예제 41-3\n",
        "a[:,1]"
      ]
    },
    {
      "cell_type": "code",
      "execution_count": 186,
      "metadata": {
        "colab": {
          "base_uri": "https://localhost:8080/"
        },
        "id": "1dBlUNyljZgX",
        "outputId": "8d8c29b4-46e4-47d2-d0d3-17ec18f19347"
      },
      "outputs": [
        {
          "data": {
            "text/plain": [
              "array([[ 0,  4,  8],\n",
              "       [ 1,  5,  9],\n",
              "       [ 2,  6, 10],\n",
              "       [ 3,  7, 11]])"
            ]
          },
          "execution_count": 186,
          "metadata": {},
          "output_type": "execute_result"
        }
      ],
      "source": [
        "#예제 42\n",
        "a.transpose()"
      ]
    },
    {
      "cell_type": "code",
      "execution_count": 1,
      "metadata": {
        "colab": {
          "base_uri": "https://localhost:8080/"
        },
        "id": "vNZChXYFjZi2",
        "outputId": "d1d708bb-3c27-42b8-fa36-3a40e08fb7da"
      },
      "outputs": [
        {
          "data": {
            "text/plain": [
              "deque([0, 1, 2, 3, 4, 5, 6, 7, 8, 9], maxlen=10)"
            ]
          },
          "execution_count": 1,
          "metadata": {},
          "output_type": "execute_result"
        }
      ],
      "source": [
        "#예제 43-1\n",
        "from collections import deque\n",
        "dq = deque(range(10), maxlen=10)\n",
        "dq"
      ]
    },
    {
      "cell_type": "code",
      "execution_count": 2,
      "metadata": {
        "colab": {
          "base_uri": "https://localhost:8080/"
        },
        "id": "Nnbpu1DMjZlg",
        "outputId": "6340aad0-fc49-4ad3-c25e-ad9998e8822f"
      },
      "outputs": [
        {
          "data": {
            "text/plain": [
              "deque([4, 5, 6, 7, 8, 9, 0, 1, 2, 3], maxlen=10)"
            ]
          },
          "execution_count": 2,
          "metadata": {},
          "output_type": "execute_result"
        }
      ],
      "source": [
        "#예제 43-2\n",
        "dq.rotate(6)\n",
        "dq"
      ]
    },
    {
      "cell_type": "code",
      "execution_count": 3,
      "metadata": {
        "colab": {
          "base_uri": "https://localhost:8080/"
        },
        "id": "itZsXcYGjZnz",
        "outputId": "e96d7b6a-a892-4004-cdf3-4e871f2c9ec2"
      },
      "outputs": [
        {
          "data": {
            "text/plain": [
              "deque([8, 9, 0, 1, 2, 3, 4, 5, 6, 7], maxlen=10)"
            ]
          },
          "execution_count": 3,
          "metadata": {},
          "output_type": "execute_result"
        }
      ],
      "source": [
        "#예제 43-3\n",
        "dq.rotate(-4)\n",
        "dq"
      ]
    },
    {
      "cell_type": "code",
      "execution_count": 205,
      "metadata": {
        "colab": {
          "base_uri": "https://localhost:8080/"
        },
        "id": "TVFQEwxnIZbt",
        "outputId": "46202a3b-eb23-46d6-a05a-5b591a5f0f26"
      },
      "outputs": [
        {
          "data": {
            "text/plain": [
              "deque([-1, 8, 9, 0, 1, 2, 3, 4, 5, 6])"
            ]
          },
          "execution_count": 205,
          "metadata": {},
          "output_type": "execute_result"
        }
      ],
      "source": [
        "#예제 44-1\n",
        "dq.appendleft(-1)\n",
        "dq"
      ]
    },
    {
      "cell_type": "code",
      "execution_count": 206,
      "metadata": {
        "colab": {
          "base_uri": "https://localhost:8080/"
        },
        "id": "zFegfnwbIZkn",
        "outputId": "efaeb15c-a02d-4a3f-c1d6-550b743228db"
      },
      "outputs": [
        {
          "data": {
            "text/plain": [
              "deque([0, 1, 2, 3, 4, 5, 6, 11, 22, 33])"
            ]
          },
          "execution_count": 206,
          "metadata": {},
          "output_type": "execute_result"
        }
      ],
      "source": [
        "#예제 44-2\n",
        "dq.extend([11, 22, 33])\n",
        "dq"
      ]
    },
    {
      "cell_type": "code",
      "execution_count": 207,
      "metadata": {
        "colab": {
          "base_uri": "https://localhost:8080/"
        },
        "id": "bMzkE91hIZnV",
        "outputId": "e2ffa718-2473-46e3-8db1-6ac958b05ba7"
      },
      "outputs": [
        {
          "data": {
            "text/plain": [
              "deque([40, 30, 20, 10, 0, 1, 2, 3, 4, 5])"
            ]
          },
          "execution_count": 207,
          "metadata": {},
          "output_type": "execute_result"
        }
      ],
      "source": [
        "#예제 44-3\n",
        "dq.extendleft([10, 20, 30, 40])\n",
        "dq"
      ]
    }
  ],
  "metadata": {
    "colab": {
      "provenance": []
    },
    "kernelspec": {
      "display_name": "Python 3",
      "name": "python3"
    },
    "language_info": {
      "codemirror_mode": {
        "name": "ipython",
        "version": 3
      },
      "file_extension": ".py",
      "mimetype": "text/x-python",
      "name": "python",
      "nbconvert_exporter": "python",
      "pygments_lexer": "ipython3",
      "version": "3.12.2"
    }
  },
  "nbformat": 4,
  "nbformat_minor": 0
}
